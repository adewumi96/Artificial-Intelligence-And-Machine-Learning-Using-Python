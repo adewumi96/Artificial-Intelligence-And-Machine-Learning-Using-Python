{
  "nbformat": 4,
  "nbformat_minor": 0,
  "metadata": {
    "colab": {
      "provenance": [],
      "toc_visible": true
    },
    "kernelspec": {
      "name": "python3",
      "display_name": "Python 3"
    },
    "language_info": {
      "name": "python"
    }
  },
  "cells": [
    {
      "cell_type": "markdown",
      "source": [
        "**INTRODUCTION**\n",
        "\n",
        "\n"
      ],
      "metadata": {
        "id": "8TvLewnt-m3g"
      }
    },
    {
      "cell_type": "markdown",
      "source": [
        "The goal of this project is an extensive analysis of the data science job market. The investigation incorporates data exploration, visualization, and the application of machine learning methodologies. Our focus will be on extracting meaningful patterns and relationships embedded in the dataset. This detailed study serves not only to enhance our comprehension of the data science field but also to bolster our proficiency in data analysis and machine learning.\n",
        "\n",
        "Our first course of action involves importing the salary dataset into our Python workspace utilizing the pandas library. We will initially scrutinize the data structure to understand its layout and obtain a preliminary overview of its contents. we will delve deeper into the dataset through exploratory data analysis, followed by data visualization, and finally, we will deploy machine learning models to further identify any underlying patterns or relationships"
      ],
      "metadata": {
        "id": "MPh6I81Jg2vA"
      }
    },
    {
      "cell_type": "code",
      "execution_count": 2,
      "metadata": {
        "id": "RgTxx7YOamDJ"
      },
      "outputs": [],
      "source": [
        "#Importing libraries\n",
        "import pandas as pd\n",
        "import numpy as np\n",
        "import matplotlib.pyplot as plt\n",
        "import seaborn as sns\n",
        "import warnings\n",
        "warnings.filterwarnings(\"ignore\")"
      ]
    },
    {
      "cell_type": "markdown",
      "source": [
        "**Premilinary** **Analysis**"
      ],
      "metadata": {
        "id": "DIvSbIrP0a9-"
      }
    },
    {
      "cell_type": "code",
      "source": [
        "#Reading data into the work area\n",
        "Data_Science_Salary = pd.read_csv(\"Salaries.csv\")"
      ],
      "metadata": {
        "id": "7uhAbbkPbTRi"
      },
      "execution_count": 4,
      "outputs": []
    },
    {
      "cell_type": "code",
      "source": [
        "Data_Science_Salary.head()"
      ],
      "metadata": {
        "colab": {
          "base_uri": "https://localhost:8080/",
          "height": 374
        },
        "id": "882C4j1BkMSn",
        "outputId": "4ce725c7-bc87-4933-dec0-c744397c713f"
      },
      "execution_count": 5,
      "outputs": [
        {
          "output_type": "execute_result",
          "data": {
            "text/plain": [
              "   work_year experience_level employment_type                 job_title  \\\n",
              "0       2023               SE              FT  Principal Data Scientist   \n",
              "1       2023               MI              CT               ML Engineer   \n",
              "2       2023               MI              CT               ML Engineer   \n",
              "3       2023               SE              FT            Data Scientist   \n",
              "4       2023               SE              FT            Data Scientist   \n",
              "\n",
              "   salary salary_currency  salary_in_usd employee_residence  remote_ratio  \\\n",
              "0   80000             EUR          85847                 ES           100   \n",
              "1   30000             USD          30000                 US           100   \n",
              "2   25500             USD          25500                 US           100   \n",
              "3  175000             USD         175000                 CA           100   \n",
              "4  120000             USD         120000                 CA           100   \n",
              "\n",
              "  company_location company_size  \n",
              "0               ES            L  \n",
              "1               US            S  \n",
              "2               US            S  \n",
              "3               CA            M  \n",
              "4               CA            M  "
            ],
            "text/html": [
              "\n",
              "  <div id=\"df-63d72d7c-99ba-408e-853a-072e57ad30d6\">\n",
              "    <div class=\"colab-df-container\">\n",
              "      <div>\n",
              "<style scoped>\n",
              "    .dataframe tbody tr th:only-of-type {\n",
              "        vertical-align: middle;\n",
              "    }\n",
              "\n",
              "    .dataframe tbody tr th {\n",
              "        vertical-align: top;\n",
              "    }\n",
              "\n",
              "    .dataframe thead th {\n",
              "        text-align: right;\n",
              "    }\n",
              "</style>\n",
              "<table border=\"1\" class=\"dataframe\">\n",
              "  <thead>\n",
              "    <tr style=\"text-align: right;\">\n",
              "      <th></th>\n",
              "      <th>work_year</th>\n",
              "      <th>experience_level</th>\n",
              "      <th>employment_type</th>\n",
              "      <th>job_title</th>\n",
              "      <th>salary</th>\n",
              "      <th>salary_currency</th>\n",
              "      <th>salary_in_usd</th>\n",
              "      <th>employee_residence</th>\n",
              "      <th>remote_ratio</th>\n",
              "      <th>company_location</th>\n",
              "      <th>company_size</th>\n",
              "    </tr>\n",
              "  </thead>\n",
              "  <tbody>\n",
              "    <tr>\n",
              "      <th>0</th>\n",
              "      <td>2023</td>\n",
              "      <td>SE</td>\n",
              "      <td>FT</td>\n",
              "      <td>Principal Data Scientist</td>\n",
              "      <td>80000</td>\n",
              "      <td>EUR</td>\n",
              "      <td>85847</td>\n",
              "      <td>ES</td>\n",
              "      <td>100</td>\n",
              "      <td>ES</td>\n",
              "      <td>L</td>\n",
              "    </tr>\n",
              "    <tr>\n",
              "      <th>1</th>\n",
              "      <td>2023</td>\n",
              "      <td>MI</td>\n",
              "      <td>CT</td>\n",
              "      <td>ML Engineer</td>\n",
              "      <td>30000</td>\n",
              "      <td>USD</td>\n",
              "      <td>30000</td>\n",
              "      <td>US</td>\n",
              "      <td>100</td>\n",
              "      <td>US</td>\n",
              "      <td>S</td>\n",
              "    </tr>\n",
              "    <tr>\n",
              "      <th>2</th>\n",
              "      <td>2023</td>\n",
              "      <td>MI</td>\n",
              "      <td>CT</td>\n",
              "      <td>ML Engineer</td>\n",
              "      <td>25500</td>\n",
              "      <td>USD</td>\n",
              "      <td>25500</td>\n",
              "      <td>US</td>\n",
              "      <td>100</td>\n",
              "      <td>US</td>\n",
              "      <td>S</td>\n",
              "    </tr>\n",
              "    <tr>\n",
              "      <th>3</th>\n",
              "      <td>2023</td>\n",
              "      <td>SE</td>\n",
              "      <td>FT</td>\n",
              "      <td>Data Scientist</td>\n",
              "      <td>175000</td>\n",
              "      <td>USD</td>\n",
              "      <td>175000</td>\n",
              "      <td>CA</td>\n",
              "      <td>100</td>\n",
              "      <td>CA</td>\n",
              "      <td>M</td>\n",
              "    </tr>\n",
              "    <tr>\n",
              "      <th>4</th>\n",
              "      <td>2023</td>\n",
              "      <td>SE</td>\n",
              "      <td>FT</td>\n",
              "      <td>Data Scientist</td>\n",
              "      <td>120000</td>\n",
              "      <td>USD</td>\n",
              "      <td>120000</td>\n",
              "      <td>CA</td>\n",
              "      <td>100</td>\n",
              "      <td>CA</td>\n",
              "      <td>M</td>\n",
              "    </tr>\n",
              "  </tbody>\n",
              "</table>\n",
              "</div>\n",
              "      <button class=\"colab-df-convert\" onclick=\"convertToInteractive('df-63d72d7c-99ba-408e-853a-072e57ad30d6')\"\n",
              "              title=\"Convert this dataframe to an interactive table.\"\n",
              "              style=\"display:none;\">\n",
              "        \n",
              "  <svg xmlns=\"http://www.w3.org/2000/svg\" height=\"24px\"viewBox=\"0 0 24 24\"\n",
              "       width=\"24px\">\n",
              "    <path d=\"M0 0h24v24H0V0z\" fill=\"none\"/>\n",
              "    <path d=\"M18.56 5.44l.94 2.06.94-2.06 2.06-.94-2.06-.94-.94-2.06-.94 2.06-2.06.94zm-11 1L8.5 8.5l.94-2.06 2.06-.94-2.06-.94L8.5 2.5l-.94 2.06-2.06.94zm10 10l.94 2.06.94-2.06 2.06-.94-2.06-.94-.94-2.06-.94 2.06-2.06.94z\"/><path d=\"M17.41 7.96l-1.37-1.37c-.4-.4-.92-.59-1.43-.59-.52 0-1.04.2-1.43.59L10.3 9.45l-7.72 7.72c-.78.78-.78 2.05 0 2.83L4 21.41c.39.39.9.59 1.41.59.51 0 1.02-.2 1.41-.59l7.78-7.78 2.81-2.81c.8-.78.8-2.07 0-2.86zM5.41 20L4 18.59l7.72-7.72 1.47 1.35L5.41 20z\"/>\n",
              "  </svg>\n",
              "      </button>\n",
              "      \n",
              "  <style>\n",
              "    .colab-df-container {\n",
              "      display:flex;\n",
              "      flex-wrap:wrap;\n",
              "      gap: 12px;\n",
              "    }\n",
              "\n",
              "    .colab-df-convert {\n",
              "      background-color: #E8F0FE;\n",
              "      border: none;\n",
              "      border-radius: 50%;\n",
              "      cursor: pointer;\n",
              "      display: none;\n",
              "      fill: #1967D2;\n",
              "      height: 32px;\n",
              "      padding: 0 0 0 0;\n",
              "      width: 32px;\n",
              "    }\n",
              "\n",
              "    .colab-df-convert:hover {\n",
              "      background-color: #E2EBFA;\n",
              "      box-shadow: 0px 1px 2px rgba(60, 64, 67, 0.3), 0px 1px 3px 1px rgba(60, 64, 67, 0.15);\n",
              "      fill: #174EA6;\n",
              "    }\n",
              "\n",
              "    [theme=dark] .colab-df-convert {\n",
              "      background-color: #3B4455;\n",
              "      fill: #D2E3FC;\n",
              "    }\n",
              "\n",
              "    [theme=dark] .colab-df-convert:hover {\n",
              "      background-color: #434B5C;\n",
              "      box-shadow: 0px 1px 3px 1px rgba(0, 0, 0, 0.15);\n",
              "      filter: drop-shadow(0px 1px 2px rgba(0, 0, 0, 0.3));\n",
              "      fill: #FFFFFF;\n",
              "    }\n",
              "  </style>\n",
              "\n",
              "      <script>\n",
              "        const buttonEl =\n",
              "          document.querySelector('#df-63d72d7c-99ba-408e-853a-072e57ad30d6 button.colab-df-convert');\n",
              "        buttonEl.style.display =\n",
              "          google.colab.kernel.accessAllowed ? 'block' : 'none';\n",
              "\n",
              "        async function convertToInteractive(key) {\n",
              "          const element = document.querySelector('#df-63d72d7c-99ba-408e-853a-072e57ad30d6');\n",
              "          const dataTable =\n",
              "            await google.colab.kernel.invokeFunction('convertToInteractive',\n",
              "                                                     [key], {});\n",
              "          if (!dataTable) return;\n",
              "\n",
              "          const docLinkHtml = 'Like what you see? Visit the ' +\n",
              "            '<a target=\"_blank\" href=https://colab.research.google.com/notebooks/data_table.ipynb>data table notebook</a>'\n",
              "            + ' to learn more about interactive tables.';\n",
              "          element.innerHTML = '';\n",
              "          dataTable['output_type'] = 'display_data';\n",
              "          await google.colab.output.renderOutput(dataTable, element);\n",
              "          const docLink = document.createElement('div');\n",
              "          docLink.innerHTML = docLinkHtml;\n",
              "          element.appendChild(docLink);\n",
              "        }\n",
              "      </script>\n",
              "    </div>\n",
              "  </div>\n",
              "  "
            ]
          },
          "metadata": {},
          "execution_count": 5
        }
      ]
    },
    {
      "cell_type": "code",
      "source": [
        "Data_Science_Salary.info()"
      ],
      "metadata": {
        "id": "jojQFMC3nJj3",
        "colab": {
          "base_uri": "https://localhost:8080/",
          "height": 0
        },
        "outputId": "aa5c855b-676c-4f91-89c0-38996c6b3769"
      },
      "execution_count": 6,
      "outputs": [
        {
          "output_type": "stream",
          "name": "stdout",
          "text": [
            "<class 'pandas.core.frame.DataFrame'>\n",
            "RangeIndex: 3755 entries, 0 to 3754\n",
            "Data columns (total 11 columns):\n",
            " #   Column              Non-Null Count  Dtype \n",
            "---  ------              --------------  ----- \n",
            " 0   work_year           3755 non-null   int64 \n",
            " 1   experience_level    3755 non-null   object\n",
            " 2   employment_type     3755 non-null   object\n",
            " 3   job_title           3755 non-null   object\n",
            " 4   salary              3755 non-null   int64 \n",
            " 5   salary_currency     3755 non-null   object\n",
            " 6   salary_in_usd       3755 non-null   int64 \n",
            " 7   employee_residence  3755 non-null   object\n",
            " 8   remote_ratio        3755 non-null   int64 \n",
            " 9   company_location    3755 non-null   object\n",
            " 10  company_size        3755 non-null   object\n",
            "dtypes: int64(4), object(7)\n",
            "memory usage: 322.8+ KB\n"
          ]
        }
      ]
    },
    {
      "cell_type": "code",
      "source": [
        "Data_Science_Salary.describe().T"
      ],
      "metadata": {
        "id": "RkGp3yULntpt",
        "colab": {
          "base_uri": "https://localhost:8080/",
          "height": 175
        },
        "outputId": "5737c706-6182-471b-ffee-f1ad4c715d1b"
      },
      "execution_count": 7,
      "outputs": [
        {
          "output_type": "execute_result",
          "data": {
            "text/plain": [
              "                count           mean            std     min       25%  \\\n",
              "work_year      3755.0    2022.373635       0.691448  2020.0    2022.0   \n",
              "salary         3755.0  190695.571771  671676.500508  6000.0  100000.0   \n",
              "salary_in_usd  3755.0  137570.389880   63055.625278  5132.0   95000.0   \n",
              "remote_ratio   3755.0      46.271638      48.589050     0.0       0.0   \n",
              "\n",
              "                    50%       75%         max  \n",
              "work_year        2022.0    2023.0      2023.0  \n",
              "salary         138000.0  180000.0  30400000.0  \n",
              "salary_in_usd  135000.0  175000.0    450000.0  \n",
              "remote_ratio        0.0     100.0       100.0  "
            ],
            "text/html": [
              "\n",
              "  <div id=\"df-3eec310e-e1a0-40b6-a771-f3467fd2d259\">\n",
              "    <div class=\"colab-df-container\">\n",
              "      <div>\n",
              "<style scoped>\n",
              "    .dataframe tbody tr th:only-of-type {\n",
              "        vertical-align: middle;\n",
              "    }\n",
              "\n",
              "    .dataframe tbody tr th {\n",
              "        vertical-align: top;\n",
              "    }\n",
              "\n",
              "    .dataframe thead th {\n",
              "        text-align: right;\n",
              "    }\n",
              "</style>\n",
              "<table border=\"1\" class=\"dataframe\">\n",
              "  <thead>\n",
              "    <tr style=\"text-align: right;\">\n",
              "      <th></th>\n",
              "      <th>count</th>\n",
              "      <th>mean</th>\n",
              "      <th>std</th>\n",
              "      <th>min</th>\n",
              "      <th>25%</th>\n",
              "      <th>50%</th>\n",
              "      <th>75%</th>\n",
              "      <th>max</th>\n",
              "    </tr>\n",
              "  </thead>\n",
              "  <tbody>\n",
              "    <tr>\n",
              "      <th>work_year</th>\n",
              "      <td>3755.0</td>\n",
              "      <td>2022.373635</td>\n",
              "      <td>0.691448</td>\n",
              "      <td>2020.0</td>\n",
              "      <td>2022.0</td>\n",
              "      <td>2022.0</td>\n",
              "      <td>2023.0</td>\n",
              "      <td>2023.0</td>\n",
              "    </tr>\n",
              "    <tr>\n",
              "      <th>salary</th>\n",
              "      <td>3755.0</td>\n",
              "      <td>190695.571771</td>\n",
              "      <td>671676.500508</td>\n",
              "      <td>6000.0</td>\n",
              "      <td>100000.0</td>\n",
              "      <td>138000.0</td>\n",
              "      <td>180000.0</td>\n",
              "      <td>30400000.0</td>\n",
              "    </tr>\n",
              "    <tr>\n",
              "      <th>salary_in_usd</th>\n",
              "      <td>3755.0</td>\n",
              "      <td>137570.389880</td>\n",
              "      <td>63055.625278</td>\n",
              "      <td>5132.0</td>\n",
              "      <td>95000.0</td>\n",
              "      <td>135000.0</td>\n",
              "      <td>175000.0</td>\n",
              "      <td>450000.0</td>\n",
              "    </tr>\n",
              "    <tr>\n",
              "      <th>remote_ratio</th>\n",
              "      <td>3755.0</td>\n",
              "      <td>46.271638</td>\n",
              "      <td>48.589050</td>\n",
              "      <td>0.0</td>\n",
              "      <td>0.0</td>\n",
              "      <td>0.0</td>\n",
              "      <td>100.0</td>\n",
              "      <td>100.0</td>\n",
              "    </tr>\n",
              "  </tbody>\n",
              "</table>\n",
              "</div>\n",
              "      <button class=\"colab-df-convert\" onclick=\"convertToInteractive('df-3eec310e-e1a0-40b6-a771-f3467fd2d259')\"\n",
              "              title=\"Convert this dataframe to an interactive table.\"\n",
              "              style=\"display:none;\">\n",
              "        \n",
              "  <svg xmlns=\"http://www.w3.org/2000/svg\" height=\"24px\"viewBox=\"0 0 24 24\"\n",
              "       width=\"24px\">\n",
              "    <path d=\"M0 0h24v24H0V0z\" fill=\"none\"/>\n",
              "    <path d=\"M18.56 5.44l.94 2.06.94-2.06 2.06-.94-2.06-.94-.94-2.06-.94 2.06-2.06.94zm-11 1L8.5 8.5l.94-2.06 2.06-.94-2.06-.94L8.5 2.5l-.94 2.06-2.06.94zm10 10l.94 2.06.94-2.06 2.06-.94-2.06-.94-.94-2.06-.94 2.06-2.06.94z\"/><path d=\"M17.41 7.96l-1.37-1.37c-.4-.4-.92-.59-1.43-.59-.52 0-1.04.2-1.43.59L10.3 9.45l-7.72 7.72c-.78.78-.78 2.05 0 2.83L4 21.41c.39.39.9.59 1.41.59.51 0 1.02-.2 1.41-.59l7.78-7.78 2.81-2.81c.8-.78.8-2.07 0-2.86zM5.41 20L4 18.59l7.72-7.72 1.47 1.35L5.41 20z\"/>\n",
              "  </svg>\n",
              "      </button>\n",
              "      \n",
              "  <style>\n",
              "    .colab-df-container {\n",
              "      display:flex;\n",
              "      flex-wrap:wrap;\n",
              "      gap: 12px;\n",
              "    }\n",
              "\n",
              "    .colab-df-convert {\n",
              "      background-color: #E8F0FE;\n",
              "      border: none;\n",
              "      border-radius: 50%;\n",
              "      cursor: pointer;\n",
              "      display: none;\n",
              "      fill: #1967D2;\n",
              "      height: 32px;\n",
              "      padding: 0 0 0 0;\n",
              "      width: 32px;\n",
              "    }\n",
              "\n",
              "    .colab-df-convert:hover {\n",
              "      background-color: #E2EBFA;\n",
              "      box-shadow: 0px 1px 2px rgba(60, 64, 67, 0.3), 0px 1px 3px 1px rgba(60, 64, 67, 0.15);\n",
              "      fill: #174EA6;\n",
              "    }\n",
              "\n",
              "    [theme=dark] .colab-df-convert {\n",
              "      background-color: #3B4455;\n",
              "      fill: #D2E3FC;\n",
              "    }\n",
              "\n",
              "    [theme=dark] .colab-df-convert:hover {\n",
              "      background-color: #434B5C;\n",
              "      box-shadow: 0px 1px 3px 1px rgba(0, 0, 0, 0.15);\n",
              "      filter: drop-shadow(0px 1px 2px rgba(0, 0, 0, 0.3));\n",
              "      fill: #FFFFFF;\n",
              "    }\n",
              "  </style>\n",
              "\n",
              "      <script>\n",
              "        const buttonEl =\n",
              "          document.querySelector('#df-3eec310e-e1a0-40b6-a771-f3467fd2d259 button.colab-df-convert');\n",
              "        buttonEl.style.display =\n",
              "          google.colab.kernel.accessAllowed ? 'block' : 'none';\n",
              "\n",
              "        async function convertToInteractive(key) {\n",
              "          const element = document.querySelector('#df-3eec310e-e1a0-40b6-a771-f3467fd2d259');\n",
              "          const dataTable =\n",
              "            await google.colab.kernel.invokeFunction('convertToInteractive',\n",
              "                                                     [key], {});\n",
              "          if (!dataTable) return;\n",
              "\n",
              "          const docLinkHtml = 'Like what you see? Visit the ' +\n",
              "            '<a target=\"_blank\" href=https://colab.research.google.com/notebooks/data_table.ipynb>data table notebook</a>'\n",
              "            + ' to learn more about interactive tables.';\n",
              "          element.innerHTML = '';\n",
              "          dataTable['output_type'] = 'display_data';\n",
              "          await google.colab.output.renderOutput(dataTable, element);\n",
              "          const docLink = document.createElement('div');\n",
              "          docLink.innerHTML = docLinkHtml;\n",
              "          element.appendChild(docLink);\n",
              "        }\n",
              "      </script>\n",
              "    </div>\n",
              "  </div>\n",
              "  "
            ]
          },
          "metadata": {},
          "execution_count": 7
        }
      ]
    },
    {
      "cell_type": "code",
      "source": [
        "Data_Science_Salary.shape"
      ],
      "metadata": {
        "colab": {
          "base_uri": "https://localhost:8080/",
          "height": 0
        },
        "id": "9dI4ETB6or6V",
        "outputId": "bbb723d4-a872-4a39-89cc-6f409732f400"
      },
      "execution_count": 8,
      "outputs": [
        {
          "output_type": "execute_result",
          "data": {
            "text/plain": [
              "(3755, 11)"
            ]
          },
          "metadata": {},
          "execution_count": 8
        }
      ]
    },
    {
      "cell_type": "markdown",
      "source": [
        "This shows that we have three thousand,seven hundred and fifty five rows and eleven columns"
      ],
      "metadata": {
        "id": "n2A06u7bm3_f"
      }
    },
    {
      "cell_type": "code",
      "source": [
        "# checking for duplicates\n",
        "Data_Science_Salary.duplicated().sum()"
      ],
      "metadata": {
        "colab": {
          "base_uri": "https://localhost:8080/",
          "height": 0
        },
        "id": "yzHz_YRgn7bp",
        "outputId": "30e1111a-95e9-4799-bfd2-e3dc005f5ca0"
      },
      "execution_count": 9,
      "outputs": [
        {
          "output_type": "execute_result",
          "data": {
            "text/plain": [
              "1171"
            ]
          },
          "metadata": {},
          "execution_count": 9
        }
      ]
    },
    {
      "cell_type": "markdown",
      "source": [
        "The otput above shows that we have one thousand one hundred and seventy one duplicate data in the dataset"
      ],
      "metadata": {
        "id": "YTnGzrl7muKb"
      }
    },
    {
      "cell_type": "code",
      "source": [
        "# removing duplicates\n",
        "Data_Science_Salary = Data_Science_Salary.drop_duplicates(keep=\"first\")\n",
        "Data_Science_Salary.shape"
      ],
      "metadata": {
        "colab": {
          "base_uri": "https://localhost:8080/",
          "height": 0
        },
        "id": "58OyaHXpobWs",
        "outputId": "e8af9dde-3003-46b6-8fd5-35000c410f49"
      },
      "execution_count": 10,
      "outputs": [
        {
          "output_type": "execute_result",
          "data": {
            "text/plain": [
              "(2584, 11)"
            ]
          },
          "metadata": {},
          "execution_count": 10
        }
      ]
    },
    {
      "cell_type": "markdown",
      "source": [
        "**Removal** **of** **all** **the** **dublicate** **data** **in** **the** **row**"
      ],
      "metadata": {
        "id": "0fQlxJrjnYQ0"
      }
    },
    {
      "cell_type": "code",
      "source": [
        "# check for missing values\n",
        "Data_Science_Salary.isnull().sum()"
      ],
      "metadata": {
        "colab": {
          "base_uri": "https://localhost:8080/",
          "height": 0
        },
        "id": "5r6LJD-4pKLS",
        "outputId": "9cccfdff-1e31-4ccf-f566-6ece9e5ba9e6"
      },
      "execution_count": 11,
      "outputs": [
        {
          "output_type": "execute_result",
          "data": {
            "text/plain": [
              "work_year             0\n",
              "experience_level      0\n",
              "employment_type       0\n",
              "job_title             0\n",
              "salary                0\n",
              "salary_currency       0\n",
              "salary_in_usd         0\n",
              "employee_residence    0\n",
              "remote_ratio          0\n",
              "company_location      0\n",
              "company_size          0\n",
              "dtype: int64"
            ]
          },
          "metadata": {},
          "execution_count": 11
        }
      ]
    },
    {
      "cell_type": "markdown",
      "source": [
        "**Salary** **distibution** **by** **Work** **Year**"
      ],
      "metadata": {
        "id": "AORAvjTLC8fe"
      }
    },
    {
      "cell_type": "code",
      "source": [
        "#facecolor of the plot\n",
        "background = \"#8B7D6B\"\n",
        "\n",
        "# make the figure\n",
        "fig, ax = plt.subplots(1,1, figsize=(8,8), facecolor=background)\n",
        "ax.set_facecolor(background)\n",
        "\n",
        "# make the plot\n",
        "sns.countplot(x=Data_Science_Salary.work_year, color=\"#0000FF\")\n",
        "\n",
        "# add annotations\n",
        "\n",
        "# add grid\n",
        "ax.grid(axis=\"y\", linestyle=\"-.\", alpha=0.7)\n",
        "\n",
        "# customize the visualization\n",
        "plt.xlabel(\"\")\n",
        "plt.ylabel(\"\")\n",
        "\n",
        "#adding tittle\n",
        "plt.title(\"Salaries paid in each year\", loc=\"left\", size=20, weight=\"bold\")\n",
        "\n"
      ],
      "metadata": {
        "id": "fiLw34P9s68t",
        "colab": {
          "base_uri": "https://localhost:8080/",
          "height": 724
        },
        "outputId": "442d8ec3-78a8-42e9-ad2a-7d50510932cb"
      },
      "execution_count": 12,
      "outputs": [
        {
          "output_type": "execute_result",
          "data": {
            "text/plain": [
              "Text(0.0, 1.0, 'Salaries paid in each year')"
            ]
          },
          "metadata": {},
          "execution_count": 12
        },
        {
          "output_type": "display_data",
          "data": {
            "text/plain": [
              "<Figure size 800x800 with 1 Axes>"
            ],
            "image/png": "[encoded data removed]"
          },
          "metadata": {}
        }
      ]
    },
    {
      "cell_type": "markdown",
      "source": [
        "The above chart shows salary across all years in the dataset, which shows that 2023 is the year with the largest salary and decreasing across the year which makes 2020 the year with the lowest salary."
      ],
      "metadata": {
        "id": "beN56VbJnkaD"
      }
    },
    {
      "cell_type": "markdown",
      "source": [
        "**Level** **of** **Experience**"
      ],
      "metadata": {
        "id": "WHEnEmtNDN3G"
      }
    },
    {
      "cell_type": "code",
      "source": [
        "fig, ax = plt.subplots(1,1, figsize=(8,8), facecolor=background)\n",
        "ax.set_facecolor(background)\n",
        "\n",
        "sns.countplot(x=Data_Science_Salary.experience_level, color=\"#F0FFFF\")\n",
        "\n",
        "plt.grid(axis=\"y\", linestyle=\"-.\", alpha=0.7)\n",
        "\n",
        "plt.xlabel(\"\")\n",
        "plt.ylabel(\"\")\n",
        "\n",
        "ax.text(-0.5, 1775, \"Level Of Experience\", size=\"22\", weight=\"bold\")\n"
      ],
      "metadata": {
        "id": "WS4wyubSu7zU",
        "colab": {
          "base_uri": "https://localhost:8080/",
          "height": 770
        },
        "outputId": "4ab2ede9-5c9f-4e41-c65d-9e1fbf57a693"
      },
      "execution_count": 13,
      "outputs": [
        {
          "output_type": "execute_result",
          "data": {
            "text/plain": [
              "Text(-0.5, 1775, 'Level Of Experience')"
            ]
          },
          "metadata": {},
          "execution_count": 13
        },
        {
          "output_type": "display_data",
          "data": {
            "text/plain": [
              "<Figure size 800x800 with 1 Axes>"
            ],
            "image/png": "[encoded data removed]"
          },
          "metadata": {}
        }
      ]
    },
    {
      "cell_type": "markdown",
      "source": [
        "From the above chart which shows the level experience, we can see from the output that vast majority of the employees are in senior position while the executive position has the least number of employees."
      ],
      "metadata": {
        "id": "8sFMyL-TpT4j"
      }
    },
    {
      "cell_type": "markdown",
      "source": [
        "**Selection** **of** **Common** **Job** **Tittle**"
      ],
      "metadata": {
        "id": "stRiG6vdDXmV"
      }
    },
    {
      "cell_type": "code",
      "source": [
        "Job_Tittle_Rank = Data_Science_Salary.job_title.value_counts().iloc[:10]\n",
        "fig, ax = plt.subplots(1,1, figsize=(8,8), facecolor=background)\n",
        "ax.set_facecolor(background)\n",
        "\n",
        "sns.barplot(x=Job_Tittle_Rank.values, y=Job_Tittle_Rank.index, color=\"#7AC5CD\", orient=\"h\")\n",
        "\n",
        "plt.grid(axis=\"x\", linestyle=\"-.\", alpha=0.7)\n",
        "\n",
        "plt.text(0, -1.5, \"10 Most common Jobtitle\", size=25, weight=\"bold\")"
      ],
      "metadata": {
        "colab": {
          "base_uri": "https://localhost:8080/",
          "height": 782
        },
        "id": "SNSh7RLH3y1s",
        "outputId": "a7e49a3b-df24-4fab-c69c-23156b5e305d"
      },
      "execution_count": 14,
      "outputs": [
        {
          "output_type": "execute_result",
          "data": {
            "text/plain": [
              "Text(0, -1.5, '10 Most common Jobtitle')"
            ]
          },
          "metadata": {},
          "execution_count": 14
        },
        {
          "output_type": "display_data",
          "data": {
            "text/plain": [
              "<Figure size 800x800 with 1 Axes>"
            ],
            "image/png": "[encoded data removed]"
          },
          "metadata": {}
        }
      ]
    },
    {
      "cell_type": "markdown",
      "source": [
        "The above chart gives an output of the top 10 jobtitle in data science field ,we can see that the Data Engineer has the highest number of employees followed by Data scientist and Data Analyst respectively and we can also see that some jobtitle has the same number of employees such as (Research Scientist and Data Architect) and (ML Engineer and Research Engineer)."
      ],
      "metadata": {
        "id": "V3gXhubtCkwK"
      }
    },
    {
      "cell_type": "markdown",
      "source": [
        "**Salary** **Distribution**"
      ],
      "metadata": {
        "id": "PT5ojs27Crht"
      }
    },
    {
      "cell_type": "code",
      "source": [
        "fig = plt.figure(figsize=(12, 20), facecolor=background)\n",
        "gs = fig.add_gridspec(3,1)\n",
        "\n",
        "ax0 = fig.add_subplot(gs[0,0])\n",
        "ax1 = fig.add_subplot(gs[1,0])\n",
        "ax2 = fig.add_subplot(gs[2,0])\n",
        "\n",
        "for ax in fig.axes:\n",
        "    ax.set_facecolor(background)\n",
        "\n",
        "sns.countplot(x=Data_Science_Salary[\"salary_currency\"], order=Data_Science_Salary[\"salary_currency\"].value_counts().index,\n",
        "             color=\"#14F3F0\", ax=ax0)\n",
        "sns.histplot(x=Data_Science_Salary[\"salary\"], color=\"#14F3F0\", ax=ax1)\n",
        "sns.histplot(x=Data_Science_Salary[\"salary_in_usd\"], kde=True,  color=\"#14F3F0\", ax=ax2)\n",
        "ax0.set_title(\"Salary Currency by count\", size=20, weight=\"bold\", loc=\"center\")\n",
        "ax1.set_title(\"Salary Distribution\", size=20, weight=\"bold\", loc=\"center\")\n",
        "ax2.set_title(\"Salary Distribution in USD\", size=20, weight=\"bold\", loc=\"center\")\n",
        "\n",
        "for ax in fig.axes:\n",
        "    ax.grid(True, linestyle=\"-.\", alpha=0.7)"
      ],
      "metadata": {
        "colab": {
          "base_uri": "https://localhost:8080/",
          "height": 1670
        },
        "id": "CCAF2KnT8LyX",
        "outputId": "079b1c15-64f5-436f-b825-932c7c456fab"
      },
      "execution_count": 15,
      "outputs": [
        {
          "output_type": "display_data",
          "data": {
            "text/plain": [
              "<Figure size 1200x2000 with 3 Axes>"
            ],
            "image/png": "[encoded data removed]"
          },
          "metadata": {}
        }
      ]
    },
    {
      "cell_type": "markdown",
      "source": [
        "The above plots shows the highest salary currency by counting and distribution, from both ploths we can see that USD is the highest currency for salary which means that larger number of employees are paid in USD."
      ],
      "metadata": {
        "id": "XTpUoJ8Drvbt"
      }
    },
    {
      "cell_type": "markdown",
      "source": [
        "**Recidence** **of** **Employee**"
      ],
      "metadata": {
        "id": "t--QS9c6CNYT"
      }
    },
    {
      "cell_type": "code",
      "source": [
        "#installing pycountry\n",
        "!pip install pycountry"
      ],
      "metadata": {
        "colab": {
          "base_uri": "https://localhost:8080/",
          "height": 0
        },
        "id": "sq5W53O2-0SE",
        "outputId": "35dd032b-3ebc-49e9-b521-388553140c46"
      },
      "execution_count": 16,
      "outputs": [
        {
          "output_type": "stream",
          "name": "stdout",
          "text": [
            "Looking in indexes: https://pypi.org/simple, https://us-python.pkg.dev/colab-wheels/public/simple/\n",
            "Collecting pycountry\n",
            "  Downloading pycountry-22.3.5.tar.gz (10.1 MB)\n",
            "\u001b[2K     \u001b[90m━━━━━━━━━━━━━━━━━━━━━━━━━━━━━━━━━━━━━━━━\u001b[0m \u001b[32m10.1/10.1 MB\u001b[0m \u001b[31m42.5 MB/s\u001b[0m eta \u001b[36m0:00:00\u001b[0m\n",
            "\u001b[?25h  Installing build dependencies ... \u001b[?25l\u001b[?25hdone\n",
            "  Getting requirements to build wheel ... \u001b[?25l\u001b[?25hdone\n",
            "  Preparing metadata (pyproject.toml) ... \u001b[?25l\u001b[?25hdone\n",
            "Requirement already satisfied: setuptools in /usr/local/lib/python3.10/dist-packages (from pycountry) (67.7.2)\n",
            "Building wheels for collected packages: pycountry\n",
            "  Building wheel for pycountry (pyproject.toml) ... \u001b[?25l\u001b[?25hdone\n",
            "  Created wheel for pycountry: filename=pycountry-22.3.5-py2.py3-none-any.whl size=10681832 sha256=2e07608bd97c5c46352c6e12a881112752f60ba3d7072f892b10b77d95a26ade\n",
            "  Stored in directory: /root/.cache/pip/wheels/03/57/cc/290c5252ec97a6d78d36479a3c5e5ecc76318afcb241ad9dbe\n",
            "Successfully built pycountry\n",
            "Installing collected packages: pycountry\n",
            "Successfully installed pycountry-22.3.5\n"
          ]
        }
      ]
    },
    {
      "cell_type": "code",
      "source": [
        "# convert the employee residence which is in ISO alpha 2 into ISO-3\n",
        "import pycountry\n",
        "Data_Science_Salary[\"ISO-3_emp\"] = [pycountry.countries.get(alpha_2=code).alpha_3 for code in Data_Science_Salary[\"employee_residence\"]]"
      ],
      "metadata": {
        "id": "zcF90xry_B30"
      },
      "execution_count": 17,
      "outputs": []
    },
    {
      "cell_type": "markdown",
      "source": [
        "The above code helps go through the country code in the employee residence column and convert from two letters country code format to three letters country code format and store in a new column."
      ],
      "metadata": {
        "id": "G87d7ACptUvt"
      }
    },
    {
      "cell_type": "code",
      "source": [
        "# group the data\n",
        "employee_residence = Data_Science_Salary.groupby(\"ISO-3_emp\").size().reset_index(name=\"count\")"
      ],
      "metadata": {
        "id": "eYEGZhHe_FFi"
      },
      "execution_count": 18,
      "outputs": []
    },
    {
      "cell_type": "code",
      "source": [
        "#Installing geopandas\n",
        "%pip install geopandas"
      ],
      "metadata": {
        "colab": {
          "base_uri": "https://localhost:8080/",
          "height": 0
        },
        "id": "jrtL772vAkkS",
        "outputId": "44bc0d0f-0771-41a3-8df5-266496477a9a"
      },
      "execution_count": 19,
      "outputs": [
        {
          "output_type": "stream",
          "name": "stdout",
          "text": [
            "Looking in indexes: https://pypi.org/simple, https://us-python.pkg.dev/colab-wheels/public/simple/\n",
            "Collecting geopandas\n",
            "  Downloading geopandas-0.13.2-py3-none-any.whl (1.1 MB)\n",
            "\u001b[2K     \u001b[90m━━━━━━━━━━━━━━━━━━━━━━━━━━━━━━━━━━━━━━━━\u001b[0m \u001b[32m1.1/1.1 MB\u001b[0m \u001b[31m15.1 MB/s\u001b[0m eta \u001b[36m0:00:00\u001b[0m\n",
            "\u001b[?25hCollecting fiona>=1.8.19 (from geopandas)\n",
            "  Downloading Fiona-1.9.4.post1-cp310-cp310-manylinux_2_17_x86_64.manylinux2014_x86_64.whl (16.4 MB)\n",
            "\u001b[2K     \u001b[90m━━━━━━━━━━━━━━━━━━━━━━━━━━━━━━━━━━━━━━━━\u001b[0m \u001b[32m16.4/16.4 MB\u001b[0m \u001b[31m57.5 MB/s\u001b[0m eta \u001b[36m0:00:00\u001b[0m\n",
            "\u001b[?25hRequirement already satisfied: packaging in /usr/local/lib/python3.10/dist-packages (from geopandas) (23.1)\n",
            "Requirement already satisfied: pandas>=1.1.0 in /usr/local/lib/python3.10/dist-packages (from geopandas) (1.5.3)\n",
            "Collecting pyproj>=3.0.1 (from geopandas)\n",
            "  Downloading pyproj-3.6.0-cp310-cp310-manylinux_2_17_x86_64.manylinux2014_x86_64.whl (7.9 MB)\n",
            "\u001b[2K     \u001b[90m━━━━━━━━━━━━━━━━━━━━━━━━━━━━━━━━━━━━━━━━\u001b[0m \u001b[32m7.9/7.9 MB\u001b[0m \u001b[31m91.3 MB/s\u001b[0m eta \u001b[36m0:00:00\u001b[0m\n",
            "\u001b[?25hRequirement already satisfied: shapely>=1.7.1 in /usr/local/lib/python3.10/dist-packages (from geopandas) (2.0.1)\n",
            "Requirement already satisfied: attrs>=19.2.0 in /usr/local/lib/python3.10/dist-packages (from fiona>=1.8.19->geopandas) (23.1.0)\n",
            "Requirement already satisfied: certifi in /usr/local/lib/python3.10/dist-packages (from fiona>=1.8.19->geopandas) (2023.5.7)\n",
            "Requirement already satisfied: click~=8.0 in /usr/local/lib/python3.10/dist-packages (from fiona>=1.8.19->geopandas) (8.1.3)\n",
            "Collecting click-plugins>=1.0 (from fiona>=1.8.19->geopandas)\n",
            "  Downloading click_plugins-1.1.1-py2.py3-none-any.whl (7.5 kB)\n",
            "Collecting cligj>=0.5 (from fiona>=1.8.19->geopandas)\n",
            "  Downloading cligj-0.7.2-py3-none-any.whl (7.1 kB)\n",
            "Requirement already satisfied: six in /usr/local/lib/python3.10/dist-packages (from fiona>=1.8.19->geopandas) (1.16.0)\n",
            "Requirement already satisfied: python-dateutil>=2.8.1 in /usr/local/lib/python3.10/dist-packages (from pandas>=1.1.0->geopandas) (2.8.2)\n",
            "Requirement already satisfied: pytz>=2020.1 in /usr/local/lib/python3.10/dist-packages (from pandas>=1.1.0->geopandas) (2022.7.1)\n",
            "Requirement already satisfied: numpy>=1.21.0 in /usr/local/lib/python3.10/dist-packages (from pandas>=1.1.0->geopandas) (1.22.4)\n",
            "Installing collected packages: pyproj, cligj, click-plugins, fiona, geopandas\n",
            "Successfully installed click-plugins-1.1.1 cligj-0.7.2 fiona-1.9.4.post1 geopandas-0.13.2 pyproj-3.6.0\n"
          ]
        }
      ]
    },
    {
      "cell_type": "code",
      "source": [
        "import geopandas as gpd\n",
        "import plotly.graph_objects as go\n",
        "\n",
        "# Load the world map data\n",
        "Residence__Employee_Map = gpd.read_file(gpd.datasets.get_path('naturalearth_lowres'))\n",
        "\n",
        "# Create a choropleth map based on the count of employees in each country\n",
        "fig = go.Figure(data=go.Choropleth(\n",
        "    locations=employee_residence[\"ISO-3_emp\"],\n",
        "    z=employee_residence[\"count\"],\n",
        "    colorscale='Teal',\n",
        "    locationmode=\"ISO-3\",\n",
        "    marker_line_color='black',\n",
        "    marker_line_width=0.5,\n",
        "    colorbar_title='Count of Employees'\n",
        "))\n",
        "\n",
        "# Set the layout of the map\n",
        "fig.update_layout(title=\" Residence Of Employee By Their Country\",\n",
        "    width=1000,  # set the width of the figure to 800 pixels\n",
        "    height=500,  # set the height of the figure to 500 pixels\n",
        "    plot_bgcolor=background  # set the background color of the plot to white\n",
        ")\n",
        "# Show the map\n",
        "fig.show()"
      ],
      "metadata": {
        "colab": {
          "base_uri": "https://localhost:8080/",
          "height": 537
        },
        "id": "Y_KilAQ3_PX8",
        "outputId": "62bf1ab5-5fe9-4645-bd84-4fb9a5d6c2dc"
      },
      "execution_count": 20,
      "outputs": [
        {
          "output_type": "display_data",
          "data": {
            "text/html": [
              "<html>\n",
              "<head><meta charset=\"utf-8\" /></head>\n",
              "<body>\n",
              "    <div>            <script src=\"https://cdnjs.cloudflare.com/ajax/libs/mathjax/2.7.5/MathJax.js?config=TeX-AMS-MML_SVG\"></script><script type=\"text/javascript\">if (window.MathJax && window.MathJax.Hub && window.MathJax.Hub.Config) {window.MathJax.Hub.Config({SVG: {font: \"STIX-Web\"}});}</script>                <script type=\"text/javascript\">window.PlotlyConfig = {MathJaxConfig: 'local'};</script>\n",
              "        <script src=\"https://cdn.plot.ly/plotly-2.18.2.min.js\"></script>                <div id=\"f3a139f2-d23a-4822-afbf-7429c2a2afc4\" class=\"plotly-graph-div\" style=\"height:500px; width:1000px;\"></div>            <script type=\"text/javascript\">                                    window.PLOTLYENV=window.PLOTLYENV || {};                                    if (document.getElementById(\"f3a139f2-d23a-4822-afbf-7429c2a2afc4\")) {                    Plotly.newPlot(                        \"f3a139f2-d23a-4822-afbf-7429c2a2afc4\",                        [{\"colorbar\":{\"title\":{\"text\":\"Count of Employees\"}},\"colorscale\":[[0.0,\"rgb(209, 238, 234)\"],[0.16666666666666666,\"rgb(168, 219, 217)\"],[0.3333333333333333,\"rgb(133, 196, 201)\"],[0.5,\"rgb(104, 171, 184)\"],[0.6666666666666666,\"rgb(79, 144, 166)\"],[0.8333333333333334,\"rgb(59, 115, 143)\"],[1.0,\"rgb(42, 86, 116)\"]],\"locationmode\":\"ISO-3\",\"locations\":[\"ARE\",\"ARG\",\"ARM\",\"ASM\",\"AUS\",\"AUT\",\"BEL\",\"BGR\",\"BIH\",\"BOL\",\"BRA\",\"CAF\",\"CAN\",\"CHE\",\"CHL\",\"CHN\",\"COL\",\"CRI\",\"CYP\",\"CZE\",\"DEU\",\"DNK\",\"DOM\",\"DZA\",\"EGY\",\"ESP\",\"EST\",\"FIN\",\"FRA\",\"GBR\",\"GHA\",\"GRC\",\"HKG\",\"HND\",\"HRV\",\"HUN\",\"IDN\",\"IND\",\"IRL\",\"IRN\",\"IRQ\",\"ISR\",\"ITA\",\"JEY\",\"JPN\",\"KEN\",\"KWT\",\"LTU\",\"LUX\",\"LVA\",\"MAR\",\"MDA\",\"MEX\",\"MKD\",\"MLT\",\"MYS\",\"NGA\",\"NLD\",\"NZL\",\"PAK\",\"PHL\",\"POL\",\"PRI\",\"PRT\",\"ROU\",\"RUS\",\"SGP\",\"SRB\",\"SVK\",\"SVN\",\"SWE\",\"THA\",\"TUN\",\"TUR\",\"UKR\",\"USA\",\"UZB\",\"VNM\"],\"marker\":{\"line\":{\"color\":\"black\",\"width\":0.5}},\"z\":[3,6,1,2,11,6,5,1,1,3,18,2,81,4,2,1,4,1,1,2,47,3,1,1,1,47,1,2,37,150,2,13,2,1,3,3,1,70,7,1,1,1,8,1,7,2,1,2,1,4,1,1,10,1,1,1,7,15,1,8,2,6,5,18,3,4,5,1,1,4,2,3,1,5,4,1893,2,3],\"type\":\"choropleth\"}],                        {\"template\":{\"data\":{\"histogram2dcontour\":[{\"type\":\"histogram2dcontour\",\"colorbar\":{\"outlinewidth\":0,\"ticks\":\"\"},\"colorscale\":[[0.0,\"#0d0887\"],[0.1111111111111111,\"#46039f\"],[0.2222222222222222,\"#7201a8\"],[0.3333333333333333,\"#9c179e\"],[0.4444444444444444,\"#bd3786\"],[0.5555555555555556,\"#d8576b\"],[0.6666666666666666,\"#ed7953\"],[0.7777777777777778,\"#fb9f3a\"],[0.8888888888888888,\"#fdca26\"],[1.0,\"#f0f921\"]]}],\"choropleth\":[{\"type\":\"choropleth\",\"colorbar\":{\"outlinewidth\":0,\"ticks\":\"\"}}],\"histogram2d\":[{\"type\":\"histogram2d\",\"colorbar\":{\"outlinewidth\":0,\"ticks\":\"\"},\"colorscale\":[[0.0,\"#0d0887\"],[0.1111111111111111,\"#46039f\"],[0.2222222222222222,\"#7201a8\"],[0.3333333333333333,\"#9c179e\"],[0.4444444444444444,\"#bd3786\"],[0.5555555555555556,\"#d8576b\"],[0.6666666666666666,\"#ed7953\"],[0.7777777777777778,\"#fb9f3a\"],[0.8888888888888888,\"#fdca26\"],[1.0,\"#f0f921\"]]}],\"heatmap\":[{\"type\":\"heatmap\",\"colorbar\":{\"outlinewidth\":0,\"ticks\":\"\"},\"colorscale\":[[0.0,\"#0d0887\"],[0.1111111111111111,\"#46039f\"],[0.2222222222222222,\"#7201a8\"],[0.3333333333333333,\"#9c179e\"],[0.4444444444444444,\"#bd3786\"],[0.5555555555555556,\"#d8576b\"],[0.6666666666666666,\"#ed7953\"],[0.7777777777777778,\"#fb9f3a\"],[0.8888888888888888,\"#fdca26\"],[1.0,\"#f0f921\"]]}],\"heatmapgl\":[{\"type\":\"heatmapgl\",\"colorbar\":{\"outlinewidth\":0,\"ticks\":\"\"},\"colorscale\":[[0.0,\"#0d0887\"],[0.1111111111111111,\"#46039f\"],[0.2222222222222222,\"#7201a8\"],[0.3333333333333333,\"#9c179e\"],[0.4444444444444444,\"#bd3786\"],[0.5555555555555556,\"#d8576b\"],[0.6666666666666666,\"#ed7953\"],[0.7777777777777778,\"#fb9f3a\"],[0.8888888888888888,\"#fdca26\"],[1.0,\"#f0f921\"]]}],\"contourcarpet\":[{\"type\":\"contourcarpet\",\"colorbar\":{\"outlinewidth\":0,\"ticks\":\"\"}}],\"contour\":[{\"type\":\"contour\",\"colorbar\":{\"outlinewidth\":0,\"ticks\":\"\"},\"colorscale\":[[0.0,\"#0d0887\"],[0.1111111111111111,\"#46039f\"],[0.2222222222222222,\"#7201a8\"],[0.3333333333333333,\"#9c179e\"],[0.4444444444444444,\"#bd3786\"],[0.5555555555555556,\"#d8576b\"],[0.6666666666666666,\"#ed7953\"],[0.7777777777777778,\"#fb9f3a\"],[0.8888888888888888,\"#fdca26\"],[1.0,\"#f0f921\"]]}],\"surface\":[{\"type\":\"surface\",\"colorbar\":{\"outlinewidth\":0,\"ticks\":\"\"},\"colorscale\":[[0.0,\"#0d0887\"],[0.1111111111111111,\"#46039f\"],[0.2222222222222222,\"#7201a8\"],[0.3333333333333333,\"#9c179e\"],[0.4444444444444444,\"#bd3786\"],[0.5555555555555556,\"#d8576b\"],[0.6666666666666666,\"#ed7953\"],[0.7777777777777778,\"#fb9f3a\"],[0.8888888888888888,\"#fdca26\"],[1.0,\"#f0f921\"]]}],\"mesh3d\":[{\"type\":\"mesh3d\",\"colorbar\":{\"outlinewidth\":0,\"ticks\":\"\"}}],\"scatter\":[{\"fillpattern\":{\"fillmode\":\"overlay\",\"size\":10,\"solidity\":0.2},\"type\":\"scatter\"}],\"parcoords\":[{\"type\":\"parcoords\",\"line\":{\"colorbar\":{\"outlinewidth\":0,\"ticks\":\"\"}}}],\"scatterpolargl\":[{\"type\":\"scatterpolargl\",\"marker\":{\"colorbar\":{\"outlinewidth\":0,\"ticks\":\"\"}}}],\"bar\":[{\"error_x\":{\"color\":\"#2a3f5f\"},\"error_y\":{\"color\":\"#2a3f5f\"},\"marker\":{\"line\":{\"color\":\"#E5ECF6\",\"width\":0.5},\"pattern\":{\"fillmode\":\"overlay\",\"size\":10,\"solidity\":0.2}},\"type\":\"bar\"}],\"scattergeo\":[{\"type\":\"scattergeo\",\"marker\":{\"colorbar\":{\"outlinewidth\":0,\"ticks\":\"\"}}}],\"scatterpolar\":[{\"type\":\"scatterpolar\",\"marker\":{\"colorbar\":{\"outlinewidth\":0,\"ticks\":\"\"}}}],\"histogram\":[{\"marker\":{\"pattern\":{\"fillmode\":\"overlay\",\"size\":10,\"solidity\":0.2}},\"type\":\"histogram\"}],\"scattergl\":[{\"type\":\"scattergl\",\"marker\":{\"colorbar\":{\"outlinewidth\":0,\"ticks\":\"\"}}}],\"scatter3d\":[{\"type\":\"scatter3d\",\"line\":{\"colorbar\":{\"outlinewidth\":0,\"ticks\":\"\"}},\"marker\":{\"colorbar\":{\"outlinewidth\":0,\"ticks\":\"\"}}}],\"scattermapbox\":[{\"type\":\"scattermapbox\",\"marker\":{\"colorbar\":{\"outlinewidth\":0,\"ticks\":\"\"}}}],\"scatterternary\":[{\"type\":\"scatterternary\",\"marker\":{\"colorbar\":{\"outlinewidth\":0,\"ticks\":\"\"}}}],\"scattercarpet\":[{\"type\":\"scattercarpet\",\"marker\":{\"colorbar\":{\"outlinewidth\":0,\"ticks\":\"\"}}}],\"carpet\":[{\"aaxis\":{\"endlinecolor\":\"#2a3f5f\",\"gridcolor\":\"white\",\"linecolor\":\"white\",\"minorgridcolor\":\"white\",\"startlinecolor\":\"#2a3f5f\"},\"baxis\":{\"endlinecolor\":\"#2a3f5f\",\"gridcolor\":\"white\",\"linecolor\":\"white\",\"minorgridcolor\":\"white\",\"startlinecolor\":\"#2a3f5f\"},\"type\":\"carpet\"}],\"table\":[{\"cells\":{\"fill\":{\"color\":\"#EBF0F8\"},\"line\":{\"color\":\"white\"}},\"header\":{\"fill\":{\"color\":\"#C8D4E3\"},\"line\":{\"color\":\"white\"}},\"type\":\"table\"}],\"barpolar\":[{\"marker\":{\"line\":{\"color\":\"#E5ECF6\",\"width\":0.5},\"pattern\":{\"fillmode\":\"overlay\",\"size\":10,\"solidity\":0.2}},\"type\":\"barpolar\"}],\"pie\":[{\"automargin\":true,\"type\":\"pie\"}]},\"layout\":{\"autotypenumbers\":\"strict\",\"colorway\":[\"#636efa\",\"#EF553B\",\"#00cc96\",\"#ab63fa\",\"#FFA15A\",\"#19d3f3\",\"#FF6692\",\"#B6E880\",\"#FF97FF\",\"#FECB52\"],\"font\":{\"color\":\"#2a3f5f\"},\"hovermode\":\"closest\",\"hoverlabel\":{\"align\":\"left\"},\"paper_bgcolor\":\"white\",\"plot_bgcolor\":\"#E5ECF6\",\"polar\":{\"bgcolor\":\"#E5ECF6\",\"angularaxis\":{\"gridcolor\":\"white\",\"linecolor\":\"white\",\"ticks\":\"\"},\"radialaxis\":{\"gridcolor\":\"white\",\"linecolor\":\"white\",\"ticks\":\"\"}},\"ternary\":{\"bgcolor\":\"#E5ECF6\",\"aaxis\":{\"gridcolor\":\"white\",\"linecolor\":\"white\",\"ticks\":\"\"},\"baxis\":{\"gridcolor\":\"white\",\"linecolor\":\"white\",\"ticks\":\"\"},\"caxis\":{\"gridcolor\":\"white\",\"linecolor\":\"white\",\"ticks\":\"\"}},\"coloraxis\":{\"colorbar\":{\"outlinewidth\":0,\"ticks\":\"\"}},\"colorscale\":{\"sequential\":[[0.0,\"#0d0887\"],[0.1111111111111111,\"#46039f\"],[0.2222222222222222,\"#7201a8\"],[0.3333333333333333,\"#9c179e\"],[0.4444444444444444,\"#bd3786\"],[0.5555555555555556,\"#d8576b\"],[0.6666666666666666,\"#ed7953\"],[0.7777777777777778,\"#fb9f3a\"],[0.8888888888888888,\"#fdca26\"],[1.0,\"#f0f921\"]],\"sequentialminus\":[[0.0,\"#0d0887\"],[0.1111111111111111,\"#46039f\"],[0.2222222222222222,\"#7201a8\"],[0.3333333333333333,\"#9c179e\"],[0.4444444444444444,\"#bd3786\"],[0.5555555555555556,\"#d8576b\"],[0.6666666666666666,\"#ed7953\"],[0.7777777777777778,\"#fb9f3a\"],[0.8888888888888888,\"#fdca26\"],[1.0,\"#f0f921\"]],\"diverging\":[[0,\"#8e0152\"],[0.1,\"#c51b7d\"],[0.2,\"#de77ae\"],[0.3,\"#f1b6da\"],[0.4,\"#fde0ef\"],[0.5,\"#f7f7f7\"],[0.6,\"#e6f5d0\"],[0.7,\"#b8e186\"],[0.8,\"#7fbc41\"],[0.9,\"#4d9221\"],[1,\"#276419\"]]},\"xaxis\":{\"gridcolor\":\"white\",\"linecolor\":\"white\",\"ticks\":\"\",\"title\":{\"standoff\":15},\"zerolinecolor\":\"white\",\"automargin\":true,\"zerolinewidth\":2},\"yaxis\":{\"gridcolor\":\"white\",\"linecolor\":\"white\",\"ticks\":\"\",\"title\":{\"standoff\":15},\"zerolinecolor\":\"white\",\"automargin\":true,\"zerolinewidth\":2},\"scene\":{\"xaxis\":{\"backgroundcolor\":\"#E5ECF6\",\"gridcolor\":\"white\",\"linecolor\":\"white\",\"showbackground\":true,\"ticks\":\"\",\"zerolinecolor\":\"white\",\"gridwidth\":2},\"yaxis\":{\"backgroundcolor\":\"#E5ECF6\",\"gridcolor\":\"white\",\"linecolor\":\"white\",\"showbackground\":true,\"ticks\":\"\",\"zerolinecolor\":\"white\",\"gridwidth\":2},\"zaxis\":{\"backgroundcolor\":\"#E5ECF6\",\"gridcolor\":\"white\",\"linecolor\":\"white\",\"showbackground\":true,\"ticks\":\"\",\"zerolinecolor\":\"white\",\"gridwidth\":2}},\"shapedefaults\":{\"line\":{\"color\":\"#2a3f5f\"}},\"annotationdefaults\":{\"arrowcolor\":\"#2a3f5f\",\"arrowhead\":0,\"arrowwidth\":1},\"geo\":{\"bgcolor\":\"white\",\"landcolor\":\"#E5ECF6\",\"subunitcolor\":\"white\",\"showland\":true,\"showlakes\":true,\"lakecolor\":\"white\"},\"title\":{\"x\":0.05},\"mapbox\":{\"style\":\"light\"}}},\"title\":{\"text\":\" Residence Of Employee By Their Country\"},\"width\":1000,\"height\":500,\"plot_bgcolor\":\"#8B7D6B\"},                        {\"responsive\": true}                    ).then(function(){\n",
              "                            \n",
              "var gd = document.getElementById('f3a139f2-d23a-4822-afbf-7429c2a2afc4');\n",
              "var x = new MutationObserver(function (mutations, observer) {{\n",
              "        var display = window.getComputedStyle(gd).display;\n",
              "        if (!display || display === 'none') {{\n",
              "            console.log([gd, 'removed!']);\n",
              "            Plotly.purge(gd);\n",
              "            observer.disconnect();\n",
              "        }}\n",
              "}});\n",
              "\n",
              "// Listen for the removal of the full notebook cells\n",
              "var notebookContainer = gd.closest('#notebook-container');\n",
              "if (notebookContainer) {{\n",
              "    x.observe(notebookContainer, {childList: true});\n",
              "}}\n",
              "\n",
              "// Listen for the clearing of the current output cell\n",
              "var outputEl = gd.closest('.output');\n",
              "if (outputEl) {{\n",
              "    x.observe(outputEl, {childList: true});\n",
              "}}\n",
              "\n",
              "                        })                };                            </script>        </div>\n",
              "</body>\n",
              "</html>"
            ]
          },
          "metadata": {}
        }
      ]
    },
    {
      "cell_type": "markdown",
      "source": [
        "The output is an interactive map that shows the distribution of employee residences across the world, thereby providing a global view of the employee demographics based on their country of residence.The map shows that USA has the highest count of employee and Canada has a a quite large numbers too."
      ],
      "metadata": {
        "id": "ShOC2fMcvWkr"
      }
    },
    {
      "cell_type": "markdown",
      "source": [
        "**Location** **of** **Company**"
      ],
      "metadata": {
        "id": "GkfVhC-YD2oM"
      }
    },
    {
      "cell_type": "code",
      "source": [
        "# change location into ISO-3\n",
        "Data_Science_Salary[\"ISO-3_comp\"] = [pycountry.countries.get(alpha_2=code).alpha_3 for code in Data_Science_Salary[\"company_location\"]]"
      ],
      "metadata": {
        "id": "DeNq4spsDqAg"
      },
      "execution_count": 21,
      "outputs": []
    },
    {
      "cell_type": "code",
      "source": [
        "# group the data\n",
        "company_location = Data_Science_Salary.groupby(\"ISO-3_comp\").size().reset_index(name=\"count\").sort_values(by=\"count\",\n",
        "                                                                                               ascending=False)\n"
      ],
      "metadata": {
        "id": "CPAn4IN3Fgn0"
      },
      "execution_count": 22,
      "outputs": []
    },
    {
      "cell_type": "code",
      "source": [
        "# create a geo map\n",
        "import geopandas as gpd\n",
        "import plotly.graph_objects as go\n",
        "\n",
        "# Load the world map data\n",
        "world_country_map = gpd.read_file(gpd.datasets.get_path('naturalearth_lowres'))\n",
        "\n",
        "# Create a choropleth map based on the count of employees in each country\n",
        "fig = go.Figure(data=go.Choropleth(\n",
        "    locations=company_location[\"ISO-3_comp\"],\n",
        "    z=company_location[\"count\"],\n",
        "    colorscale='Teal',\n",
        "    locationmode=\"ISO-3\",\n",
        "    marker_line_color='darkgray',\n",
        "    marker_line_width=0.5,\n",
        "    colorbar_title='Count of Companies'\n",
        "))\n",
        "# Set the layout of the map\n",
        "fig.update_layout(\n",
        "    title=\"Company Location by count\",\n",
        "    width=1000,  # set the width of the figure to 800 pixels\n",
        "    height=500,  # set the height of the figure to 500 pixels\n",
        "    plot_bgcolor=background  # set the background color of the plot to white\n",
        ")\n",
        "# Show the map\n",
        "fig.show()"
      ],
      "metadata": {
        "colab": {
          "base_uri": "https://localhost:8080/",
          "height": 537
        },
        "id": "6Txpmeq0Ft4H",
        "outputId": "ebb3530f-b998-41a6-eb1a-779fa3c68c17"
      },
      "execution_count": 23,
      "outputs": [
        {
          "output_type": "display_data",
          "data": {
            "text/html": [
              "<html>\n",
              "<head><meta charset=\"utf-8\" /></head>\n",
              "<body>\n",
              "    <div>            <script src=\"https://cdnjs.cloudflare.com/ajax/libs/mathjax/2.7.5/MathJax.js?config=TeX-AMS-MML_SVG\"></script><script type=\"text/javascript\">if (window.MathJax && window.MathJax.Hub && window.MathJax.Hub.Config) {window.MathJax.Hub.Config({SVG: {font: \"STIX-Web\"}});}</script>                <script type=\"text/javascript\">window.PlotlyConfig = {MathJaxConfig: 'local'};</script>\n",
              "        <script src=\"https://cdn.plot.ly/plotly-2.18.2.min.js\"></script>                <div id=\"f55c2926-b7b6-49b6-88b7-a1d18ac77bb1\" class=\"plotly-graph-div\" style=\"height:500px; width:1000px;\"></div>            <script type=\"text/javascript\">                                    window.PLOTLYENV=window.PLOTLYENV || {};                                    if (document.getElementById(\"f55c2926-b7b6-49b6-88b7-a1d18ac77bb1\")) {                    Plotly.newPlot(                        \"f55c2926-b7b6-49b6-88b7-a1d18ac77bb1\",                        [{\"colorbar\":{\"title\":{\"text\":\"Count of Companies\"}},\"colorscale\":[[0.0,\"rgb(209, 238, 234)\"],[0.16666666666666666,\"rgb(168, 219, 217)\"],[0.3333333333333333,\"rgb(133, 196, 201)\"],[0.5,\"rgb(104, 171, 184)\"],[0.6666666666666666,\"rgb(79, 144, 166)\"],[0.8333333333333334,\"rgb(59, 115, 143)\"],[1.0,\"rgb(42, 86, 116)\"]],\"locationmode\":\"ISO-3\",\"locations\":[\"USA\",\"GBR\",\"CAN\",\"IND\",\"DEU\",\"ESP\",\"FRA\",\"BRA\",\"PRT\",\"AUS\",\"NLD\",\"GRC\",\"MEX\",\"IRL\",\"JPN\",\"AUT\",\"SGP\",\"NGA\",\"CHE\",\"POL\",\"TUR\",\"COL\",\"PAK\",\"LVA\",\"UKR\",\"DNK\",\"BEL\",\"SVN\",\"ITA\",\"PRI\",\"ARE\",\"LUX\",\"THA\",\"FIN\",\"HRV\",\"ARG\",\"CZE\",\"RUS\",\"ASM\",\"HUN\",\"IDN\",\"SWE\",\"LTU\",\"KEN\",\"EST\",\"ISR\",\"GHA\",\"CAF\",\"ROU\",\"PHL\",\"SVK\",\"NZL\",\"ALB\",\"MYS\",\"DZA\",\"ARM\",\"BHS\",\"BIH\",\"BOL\",\"CHL\",\"CHN\",\"CRI\",\"EGY\",\"MLT\",\"HKG\",\"HND\",\"IRN\",\"IRQ\",\"MAR\",\"MDA\",\"MKD\",\"VNM\"],\"marker\":{\"line\":{\"color\":\"darkgray\",\"width\":0.5}},\"z\":[1929,155,83,57,55,44,33,15,14,14,13,11,10,7,6,6,6,5,5,5,5,4,4,4,4,4,4,4,4,4,3,3,3,3,3,3,3,3,3,2,2,2,2,2,2,2,2,2,2,1,1,1,1,1,1,1,1,1,1,1,1,1,1,1,1,1,1,1,1,1,1,1],\"type\":\"choropleth\"}],                        {\"template\":{\"data\":{\"histogram2dcontour\":[{\"type\":\"histogram2dcontour\",\"colorbar\":{\"outlinewidth\":0,\"ticks\":\"\"},\"colorscale\":[[0.0,\"#0d0887\"],[0.1111111111111111,\"#46039f\"],[0.2222222222222222,\"#7201a8\"],[0.3333333333333333,\"#9c179e\"],[0.4444444444444444,\"#bd3786\"],[0.5555555555555556,\"#d8576b\"],[0.6666666666666666,\"#ed7953\"],[0.7777777777777778,\"#fb9f3a\"],[0.8888888888888888,\"#fdca26\"],[1.0,\"#f0f921\"]]}],\"choropleth\":[{\"type\":\"choropleth\",\"colorbar\":{\"outlinewidth\":0,\"ticks\":\"\"}}],\"histogram2d\":[{\"type\":\"histogram2d\",\"colorbar\":{\"outlinewidth\":0,\"ticks\":\"\"},\"colorscale\":[[0.0,\"#0d0887\"],[0.1111111111111111,\"#46039f\"],[0.2222222222222222,\"#7201a8\"],[0.3333333333333333,\"#9c179e\"],[0.4444444444444444,\"#bd3786\"],[0.5555555555555556,\"#d8576b\"],[0.6666666666666666,\"#ed7953\"],[0.7777777777777778,\"#fb9f3a\"],[0.8888888888888888,\"#fdca26\"],[1.0,\"#f0f921\"]]}],\"heatmap\":[{\"type\":\"heatmap\",\"colorbar\":{\"outlinewidth\":0,\"ticks\":\"\"},\"colorscale\":[[0.0,\"#0d0887\"],[0.1111111111111111,\"#46039f\"],[0.2222222222222222,\"#7201a8\"],[0.3333333333333333,\"#9c179e\"],[0.4444444444444444,\"#bd3786\"],[0.5555555555555556,\"#d8576b\"],[0.6666666666666666,\"#ed7953\"],[0.7777777777777778,\"#fb9f3a\"],[0.8888888888888888,\"#fdca26\"],[1.0,\"#f0f921\"]]}],\"heatmapgl\":[{\"type\":\"heatmapgl\",\"colorbar\":{\"outlinewidth\":0,\"ticks\":\"\"},\"colorscale\":[[0.0,\"#0d0887\"],[0.1111111111111111,\"#46039f\"],[0.2222222222222222,\"#7201a8\"],[0.3333333333333333,\"#9c179e\"],[0.4444444444444444,\"#bd3786\"],[0.5555555555555556,\"#d8576b\"],[0.6666666666666666,\"#ed7953\"],[0.7777777777777778,\"#fb9f3a\"],[0.8888888888888888,\"#fdca26\"],[1.0,\"#f0f921\"]]}],\"contourcarpet\":[{\"type\":\"contourcarpet\",\"colorbar\":{\"outlinewidth\":0,\"ticks\":\"\"}}],\"contour\":[{\"type\":\"contour\",\"colorbar\":{\"outlinewidth\":0,\"ticks\":\"\"},\"colorscale\":[[0.0,\"#0d0887\"],[0.1111111111111111,\"#46039f\"],[0.2222222222222222,\"#7201a8\"],[0.3333333333333333,\"#9c179e\"],[0.4444444444444444,\"#bd3786\"],[0.5555555555555556,\"#d8576b\"],[0.6666666666666666,\"#ed7953\"],[0.7777777777777778,\"#fb9f3a\"],[0.8888888888888888,\"#fdca26\"],[1.0,\"#f0f921\"]]}],\"surface\":[{\"type\":\"surface\",\"colorbar\":{\"outlinewidth\":0,\"ticks\":\"\"},\"colorscale\":[[0.0,\"#0d0887\"],[0.1111111111111111,\"#46039f\"],[0.2222222222222222,\"#7201a8\"],[0.3333333333333333,\"#9c179e\"],[0.4444444444444444,\"#bd3786\"],[0.5555555555555556,\"#d8576b\"],[0.6666666666666666,\"#ed7953\"],[0.7777777777777778,\"#fb9f3a\"],[0.8888888888888888,\"#fdca26\"],[1.0,\"#f0f921\"]]}],\"mesh3d\":[{\"type\":\"mesh3d\",\"colorbar\":{\"outlinewidth\":0,\"ticks\":\"\"}}],\"scatter\":[{\"fillpattern\":{\"fillmode\":\"overlay\",\"size\":10,\"solidity\":0.2},\"type\":\"scatter\"}],\"parcoords\":[{\"type\":\"parcoords\",\"line\":{\"colorbar\":{\"outlinewidth\":0,\"ticks\":\"\"}}}],\"scatterpolargl\":[{\"type\":\"scatterpolargl\",\"marker\":{\"colorbar\":{\"outlinewidth\":0,\"ticks\":\"\"}}}],\"bar\":[{\"error_x\":{\"color\":\"#2a3f5f\"},\"error_y\":{\"color\":\"#2a3f5f\"},\"marker\":{\"line\":{\"color\":\"#E5ECF6\",\"width\":0.5},\"pattern\":{\"fillmode\":\"overlay\",\"size\":10,\"solidity\":0.2}},\"type\":\"bar\"}],\"scattergeo\":[{\"type\":\"scattergeo\",\"marker\":{\"colorbar\":{\"outlinewidth\":0,\"ticks\":\"\"}}}],\"scatterpolar\":[{\"type\":\"scatterpolar\",\"marker\":{\"colorbar\":{\"outlinewidth\":0,\"ticks\":\"\"}}}],\"histogram\":[{\"marker\":{\"pattern\":{\"fillmode\":\"overlay\",\"size\":10,\"solidity\":0.2}},\"type\":\"histogram\"}],\"scattergl\":[{\"type\":\"scattergl\",\"marker\":{\"colorbar\":{\"outlinewidth\":0,\"ticks\":\"\"}}}],\"scatter3d\":[{\"type\":\"scatter3d\",\"line\":{\"colorbar\":{\"outlinewidth\":0,\"ticks\":\"\"}},\"marker\":{\"colorbar\":{\"outlinewidth\":0,\"ticks\":\"\"}}}],\"scattermapbox\":[{\"type\":\"scattermapbox\",\"marker\":{\"colorbar\":{\"outlinewidth\":0,\"ticks\":\"\"}}}],\"scatterternary\":[{\"type\":\"scatterternary\",\"marker\":{\"colorbar\":{\"outlinewidth\":0,\"ticks\":\"\"}}}],\"scattercarpet\":[{\"type\":\"scattercarpet\",\"marker\":{\"colorbar\":{\"outlinewidth\":0,\"ticks\":\"\"}}}],\"carpet\":[{\"aaxis\":{\"endlinecolor\":\"#2a3f5f\",\"gridcolor\":\"white\",\"linecolor\":\"white\",\"minorgridcolor\":\"white\",\"startlinecolor\":\"#2a3f5f\"},\"baxis\":{\"endlinecolor\":\"#2a3f5f\",\"gridcolor\":\"white\",\"linecolor\":\"white\",\"minorgridcolor\":\"white\",\"startlinecolor\":\"#2a3f5f\"},\"type\":\"carpet\"}],\"table\":[{\"cells\":{\"fill\":{\"color\":\"#EBF0F8\"},\"line\":{\"color\":\"white\"}},\"header\":{\"fill\":{\"color\":\"#C8D4E3\"},\"line\":{\"color\":\"white\"}},\"type\":\"table\"}],\"barpolar\":[{\"marker\":{\"line\":{\"color\":\"#E5ECF6\",\"width\":0.5},\"pattern\":{\"fillmode\":\"overlay\",\"size\":10,\"solidity\":0.2}},\"type\":\"barpolar\"}],\"pie\":[{\"automargin\":true,\"type\":\"pie\"}]},\"layout\":{\"autotypenumbers\":\"strict\",\"colorway\":[\"#636efa\",\"#EF553B\",\"#00cc96\",\"#ab63fa\",\"#FFA15A\",\"#19d3f3\",\"#FF6692\",\"#B6E880\",\"#FF97FF\",\"#FECB52\"],\"font\":{\"color\":\"#2a3f5f\"},\"hovermode\":\"closest\",\"hoverlabel\":{\"align\":\"left\"},\"paper_bgcolor\":\"white\",\"plot_bgcolor\":\"#E5ECF6\",\"polar\":{\"bgcolor\":\"#E5ECF6\",\"angularaxis\":{\"gridcolor\":\"white\",\"linecolor\":\"white\",\"ticks\":\"\"},\"radialaxis\":{\"gridcolor\":\"white\",\"linecolor\":\"white\",\"ticks\":\"\"}},\"ternary\":{\"bgcolor\":\"#E5ECF6\",\"aaxis\":{\"gridcolor\":\"white\",\"linecolor\":\"white\",\"ticks\":\"\"},\"baxis\":{\"gridcolor\":\"white\",\"linecolor\":\"white\",\"ticks\":\"\"},\"caxis\":{\"gridcolor\":\"white\",\"linecolor\":\"white\",\"ticks\":\"\"}},\"coloraxis\":{\"colorbar\":{\"outlinewidth\":0,\"ticks\":\"\"}},\"colorscale\":{\"sequential\":[[0.0,\"#0d0887\"],[0.1111111111111111,\"#46039f\"],[0.2222222222222222,\"#7201a8\"],[0.3333333333333333,\"#9c179e\"],[0.4444444444444444,\"#bd3786\"],[0.5555555555555556,\"#d8576b\"],[0.6666666666666666,\"#ed7953\"],[0.7777777777777778,\"#fb9f3a\"],[0.8888888888888888,\"#fdca26\"],[1.0,\"#f0f921\"]],\"sequentialminus\":[[0.0,\"#0d0887\"],[0.1111111111111111,\"#46039f\"],[0.2222222222222222,\"#7201a8\"],[0.3333333333333333,\"#9c179e\"],[0.4444444444444444,\"#bd3786\"],[0.5555555555555556,\"#d8576b\"],[0.6666666666666666,\"#ed7953\"],[0.7777777777777778,\"#fb9f3a\"],[0.8888888888888888,\"#fdca26\"],[1.0,\"#f0f921\"]],\"diverging\":[[0,\"#8e0152\"],[0.1,\"#c51b7d\"],[0.2,\"#de77ae\"],[0.3,\"#f1b6da\"],[0.4,\"#fde0ef\"],[0.5,\"#f7f7f7\"],[0.6,\"#e6f5d0\"],[0.7,\"#b8e186\"],[0.8,\"#7fbc41\"],[0.9,\"#4d9221\"],[1,\"#276419\"]]},\"xaxis\":{\"gridcolor\":\"white\",\"linecolor\":\"white\",\"ticks\":\"\",\"title\":{\"standoff\":15},\"zerolinecolor\":\"white\",\"automargin\":true,\"zerolinewidth\":2},\"yaxis\":{\"gridcolor\":\"white\",\"linecolor\":\"white\",\"ticks\":\"\",\"title\":{\"standoff\":15},\"zerolinecolor\":\"white\",\"automargin\":true,\"zerolinewidth\":2},\"scene\":{\"xaxis\":{\"backgroundcolor\":\"#E5ECF6\",\"gridcolor\":\"white\",\"linecolor\":\"white\",\"showbackground\":true,\"ticks\":\"\",\"zerolinecolor\":\"white\",\"gridwidth\":2},\"yaxis\":{\"backgroundcolor\":\"#E5ECF6\",\"gridcolor\":\"white\",\"linecolor\":\"white\",\"showbackground\":true,\"ticks\":\"\",\"zerolinecolor\":\"white\",\"gridwidth\":2},\"zaxis\":{\"backgroundcolor\":\"#E5ECF6\",\"gridcolor\":\"white\",\"linecolor\":\"white\",\"showbackground\":true,\"ticks\":\"\",\"zerolinecolor\":\"white\",\"gridwidth\":2}},\"shapedefaults\":{\"line\":{\"color\":\"#2a3f5f\"}},\"annotationdefaults\":{\"arrowcolor\":\"#2a3f5f\",\"arrowhead\":0,\"arrowwidth\":1},\"geo\":{\"bgcolor\":\"white\",\"landcolor\":\"#E5ECF6\",\"subunitcolor\":\"white\",\"showland\":true,\"showlakes\":true,\"lakecolor\":\"white\"},\"title\":{\"x\":0.05},\"mapbox\":{\"style\":\"light\"}}},\"title\":{\"text\":\"Company Location by count\"},\"width\":1000,\"height\":500,\"plot_bgcolor\":\"#8B7D6B\"},                        {\"responsive\": true}                    ).then(function(){\n",
              "                            \n",
              "var gd = document.getElementById('f55c2926-b7b6-49b6-88b7-a1d18ac77bb1');\n",
              "var x = new MutationObserver(function (mutations, observer) {{\n",
              "        var display = window.getComputedStyle(gd).display;\n",
              "        if (!display || display === 'none') {{\n",
              "            console.log([gd, 'removed!']);\n",
              "            Plotly.purge(gd);\n",
              "            observer.disconnect();\n",
              "        }}\n",
              "}});\n",
              "\n",
              "// Listen for the removal of the full notebook cells\n",
              "var notebookContainer = gd.closest('#notebook-container');\n",
              "if (notebookContainer) {{\n",
              "    x.observe(notebookContainer, {childList: true});\n",
              "}}\n",
              "\n",
              "// Listen for the clearing of the current output cell\n",
              "var outputEl = gd.closest('.output');\n",
              "if (outputEl) {{\n",
              "    x.observe(outputEl, {childList: true});\n",
              "}}\n",
              "\n",
              "                        })                };                            </script>        </div>\n",
              "</body>\n",
              "</html>"
            ]
          },
          "metadata": {}
        }
      ]
    },
    {
      "cell_type": "markdown",
      "source": [
        "The output is an interactive map that shows the distribution of company location across the world, thereby providing a global view of the company based on the location and we can see that Canada is the country with the highest number of companies."
      ],
      "metadata": {
        "id": "VRiFzzXkxsu_"
      }
    },
    {
      "cell_type": "markdown",
      "source": [
        "Company Size"
      ],
      "metadata": {
        "id": "n-2Ylw94HeuH"
      }
    },
    {
      "cell_type": "code",
      "source": [
        "fig, ax= plt.subplots(1,1, figsize=(8,8), facecolor=background)\n",
        "ax.set_facecolor(background)\n",
        "\n",
        "sns.countplot(x=Data_Science_Salary[\"company_size\"], color=\"#00C957\")\n",
        "\n",
        "plt.grid(axis=\"y\", linestyle=\"-.\", alpha=0.7)\n",
        "\n",
        "plt.xlabel(\"\")\n",
        "plt.ylabel(\"\")\n",
        "\n",
        "plt.title(\"Company Size\", loc=\"left\", size=25, weight=\"bold\")"
      ],
      "metadata": {
        "colab": {
          "base_uri": "https://localhost:8080/",
          "height": 729
        },
        "id": "NWXYHMLPG9mW",
        "outputId": "7b0bb059-1574-45ad-8a16-2c19b9ce22a9"
      },
      "execution_count": 24,
      "outputs": [
        {
          "output_type": "execute_result",
          "data": {
            "text/plain": [
              "Text(0.0, 1.0, 'Company Size')"
            ]
          },
          "metadata": {},
          "execution_count": 24
        },
        {
          "output_type": "display_data",
          "data": {
            "text/plain": [
              "<Figure size 800x800 with 1 Axes>"
            ],
            "image/png": "[encoded data removed]"
          },
          "metadata": {}
        }
      ]
    },
    {
      "cell_type": "markdown",
      "source": [
        "The final output is a visual representation of the distribution of company sizes in the Data_Science_Salary DataFrame. This plot provides an immediate and clear understanding of the most common and least common company sizes in the dataset, thereby offering insights into the range and diversity of company sizes within the data science job market.We can see from the output that Company size M has the highest number folloowed by Large and Small has the least on the graph."
      ],
      "metadata": {
        "id": "Hc5TRI-CzOdt"
      }
    },
    {
      "cell_type": "markdown",
      "source": [
        "**Model** **Building**"
      ],
      "metadata": {
        "id": "DndgzY_2IMlT"
      }
    },
    {
      "cell_type": "code",
      "source": [
        "# copy the data\n",
        "Data_Science_Salary_copy = Data_Science_Salary.copy()\n",
        "#  categorica#l data sorting\n",
        "Data_Science_Salary_copy[\"job_title\"].value_counts()"
      ],
      "metadata": {
        "colab": {
          "base_uri": "https://localhost:8080/",
          "height": 0
        },
        "id": "ewFGMX1eIMMa",
        "outputId": "54d52411-d0db-4f47-9e6e-207352edd56d"
      },
      "execution_count": 25,
      "outputs": [
        {
          "output_type": "execute_result",
          "data": {
            "text/plain": [
              "Data Engineer                598\n",
              "Data Scientist               538\n",
              "Data Analyst                 396\n",
              "Machine Learning Engineer    206\n",
              "Analytics Engineer            91\n",
              "                            ... \n",
              "Compliance Data Analyst        1\n",
              "Deep Learning Researcher       1\n",
              "Staff Data Analyst             1\n",
              "Data DevOps Engineer           1\n",
              "Finance Data Analyst           1\n",
              "Name: job_title, Length: 93, dtype: int64"
            ]
          },
          "metadata": {},
          "execution_count": 25
        }
      ]
    },
    {
      "cell_type": "markdown",
      "source": [
        "Creating a copy of the original data frame and perform a frequency count operation on the job tittle to count the occurence of each unique value in a dataframe column and the ouput shows the count of the most frequent job tittle with Data Engineer has the highest because it was sorted in descending order. In contrast, several roles such as \"Compliance Data Analyst,\" \"Deep Learning Researcher,\" \"Staff Data Analyst,\" \"Data DevOps Engineer,\" and \"Finance Data Analyst\" are rare and appear only once in the dataset."
      ],
      "metadata": {
        "id": "SJiH3meC1zdK"
      }
    },
    {
      "cell_type": "code",
      "source": [
        "#defining function\n",
        "def Add_job_title(job_title):\n",
        "    if job_title in [\"Data Engineer\", \"Data Scientist\", \"Data Analyst\", \"Machine Learning Engineer\"]:\n",
        "        return job_title\n",
        "    else:\n",
        "        return \"Other\"\n",
        "\n",
        "Data_Science_Salary_copy[\"new_job_title\"] =Data_Science_Salary_copy[\"job_title\"].apply(Add_job_title)\n",
        "# first one done\n",
        "Data_Science_Salary_copy[\"new_job_title\"].value_counts()"
      ],
      "metadata": {
        "colab": {
          "base_uri": "https://localhost:8080/",
          "height": 0
        },
        "id": "A7gto6uDIqDp",
        "outputId": "bc6dd978-9311-4f61-b3b4-423e2bc39ebf"
      },
      "execution_count": 26,
      "outputs": [
        {
          "output_type": "execute_result",
          "data": {
            "text/plain": [
              "Other                        846\n",
              "Data Engineer                598\n",
              "Data Scientist               538\n",
              "Data Analyst                 396\n",
              "Machine Learning Engineer    206\n",
              "Name: new_job_title, dtype: int64"
            ]
          },
          "metadata": {},
          "execution_count": 26
        }
      ]
    },
    {
      "cell_type": "markdown",
      "source": [
        "The above define a function which help categorize any job title that is not listed in the defined job tittle as others.This help simplify the dataset or focus on the specified roles while grouping all other roles together. It help to reduce dimensionality and make the dataset less noisy when these main job titles are of particular interest."
      ],
      "metadata": {
        "id": "3PamAiLy4ata"
      }
    },
    {
      "cell_type": "code",
      "source": [
        "# company location\n",
        "Data_Science_Salary_copy[\"company_location\"].value_counts()\n",
        "\n",
        "Data_Science_Salary_copy[\"company_location\"] = np.where(Data_Science_Salary[\"company_location\"] == \"US\", 1,0)\n",
        "Data_Science_Salary_copy.rename(columns={\"company_location\" : \"New_company_location_US\"}, inplace=True)\n",
        "Data_Science_Salary_copy[\"New_company_location_US\"].value_counts()"
      ],
      "metadata": {
        "colab": {
          "base_uri": "https://localhost:8080/",
          "height": 0
        },
        "id": "z6aVzrzyJrm7",
        "outputId": "ba8f4aa1-688d-435c-8d6d-91450856a45e"
      },
      "execution_count": 27,
      "outputs": [
        {
          "output_type": "execute_result",
          "data": {
            "text/plain": [
              "1    1929\n",
              "0     655\n",
              "Name: New_company_location_US, dtype: int64"
            ]
          },
          "metadata": {},
          "execution_count": 27
        }
      ]
    },
    {
      "cell_type": "markdown",
      "source": [
        " The code transforms the company_location column into a binary variable and result provides a clear numeric comparison between the number of companies based in the United States and those based elsewhere,then it counts the number of companies in each category where 1 indicates that the company is located in the United States and 0 indicates that the company is located outside the United States."
      ],
      "metadata": {
        "id": "00kNz86X5vYM"
      }
    },
    {
      "cell_type": "code",
      "source": [
        "# employee residence\n",
        "Data_Science_Salary_copy[\"employee_residence\"].value_counts()\n",
        "\n",
        "Data_Science_Salary_copy[\"employee_residence\"] = np.where(Data_Science_Salary[\"employee_residence\"]==\"US\", 1,0)\n",
        "Data_Science_Salary_copy.rename(columns={\"employee_residence\" : \"New_employee_residence_US\"}, inplace=True)\n",
        "Data_Science_Salary_copy[\"New_employee_residence_US\"].value_counts()"
      ],
      "metadata": {
        "colab": {
          "base_uri": "https://localhost:8080/",
          "height": 0
        },
        "id": "yupm96T3KX7w",
        "outputId": "d4dc1b7b-3c1a-44c7-f417-e86651c8874d"
      },
      "execution_count": 28,
      "outputs": [
        {
          "output_type": "execute_result",
          "data": {
            "text/plain": [
              "1    1893\n",
              "0     691\n",
              "Name: New_employee_residence_US, dtype: int64"
            ]
          },
          "metadata": {},
          "execution_count": 28
        }
      ]
    },
    {
      "cell_type": "markdown",
      "source": [
        "The code transforms the employee_residence column into a binary variable and result provides a clear numeric comparison between the number of employies based in the United States and those based elsewhere,then it counts the number of employees in each category where 1 indicates that the employee resides in the United States and 0 indicates that employee resides outside the United States."
      ],
      "metadata": {
        "id": "1Tw7Iul96m0U"
      }
    },
    {
      "cell_type": "markdown",
      "source": [
        "**METHOD**\n",
        "\n",
        "\n",
        "Bellow shows the methodology\n",
        "\n",
        "\n",
        "\n",
        " I will be looking into three diffent machine learning models which are Linear Regression,Random Forest Regression and Decision Tree Regression to check the model that fit, perform prediction using each of the model, validation on Mean absolute error regression loss and coefficient of determination."
      ],
      "metadata": {
        "id": "Nsq8em5s7cn9"
      }
    },
    {
      "cell_type": "code",
      "source": [
        "from sklearn.model_selection import train_test_split\n",
        "from sklearn.ensemble import RandomForestRegressor\n",
        "from sklearn.metrics import mean_absolute_error, r2_score\n",
        "from sklearn.pipeline import Pipeline\n",
        "from sklearn.preprocessing import OrdinalEncoder, OneHotEncoder, StandardScaler\n",
        "from sklearn.impute import SimpleImputer\n",
        "from sklearn.compose import ColumnTransformer"
      ],
      "metadata": {
        "id": "rbVL4eUMLaw6"
      },
      "execution_count": 29,
      "outputs": []
    },
    {
      "cell_type": "markdown",
      "source": [
        "The above script involves the importation of several modules and functions from the sklearn library, which is a powerful tool for machine learning and statistical modeling in Python. The modules imported are typically used in the process of preprocessing data and building machine learning models."
      ],
      "metadata": {
        "id": "5XAJuk867Ot3"
      }
    },
    {
      "cell_type": "code",
      "source": [
        "# create first variable X\n",
        "features = [\"work_year\", \"experience_level\", \"New_employee_residence_US\",\"employment_type\",\n",
        "            \"New_company_location_US\", \"company_size\",\"remote_ratio\", \"new_job_title\"]\n",
        "X = Data_Science_Salary_copy[features]\n",
        "X.head()"
      ],
      "metadata": {
        "colab": {
          "base_uri": "https://localhost:8080/",
          "height": 270
        },
        "id": "Nq-G7zGMLdQM",
        "outputId": "185a813a-b1ae-497b-e74a-b050000d537f"
      },
      "execution_count": 30,
      "outputs": [
        {
          "output_type": "execute_result",
          "data": {
            "text/plain": [
              "   work_year experience_level  New_employee_residence_US employment_type  \\\n",
              "0       2023               SE                          0              FT   \n",
              "1       2023               MI                          1              CT   \n",
              "2       2023               MI                          1              CT   \n",
              "3       2023               SE                          0              FT   \n",
              "4       2023               SE                          0              FT   \n",
              "\n",
              "   New_company_location_US company_size  remote_ratio   new_job_title  \n",
              "0                        0            L           100           Other  \n",
              "1                        1            S           100           Other  \n",
              "2                        1            S           100           Other  \n",
              "3                        0            M           100  Data Scientist  \n",
              "4                        0            M           100  Data Scientist  "
            ],
            "text/html": [
              "\n",
              "  <div id=\"df-26ee1ada-0732-44c8-9d56-1b4c8690c655\">\n",
              "    <div class=\"colab-df-container\">\n",
              "      <div>\n",
              "<style scoped>\n",
              "    .dataframe tbody tr th:only-of-type {\n",
              "        vertical-align: middle;\n",
              "    }\n",
              "\n",
              "    .dataframe tbody tr th {\n",
              "        vertical-align: top;\n",
              "    }\n",
              "\n",
              "    .dataframe thead th {\n",
              "        text-align: right;\n",
              "    }\n",
              "</style>\n",
              "<table border=\"1\" class=\"dataframe\">\n",
              "  <thead>\n",
              "    <tr style=\"text-align: right;\">\n",
              "      <th></th>\n",
              "      <th>work_year</th>\n",
              "      <th>experience_level</th>\n",
              "      <th>New_employee_residence_US</th>\n",
              "      <th>employment_type</th>\n",
              "      <th>New_company_location_US</th>\n",
              "      <th>company_size</th>\n",
              "      <th>remote_ratio</th>\n",
              "      <th>new_job_title</th>\n",
              "    </tr>\n",
              "  </thead>\n",
              "  <tbody>\n",
              "    <tr>\n",
              "      <th>0</th>\n",
              "      <td>2023</td>\n",
              "      <td>SE</td>\n",
              "      <td>0</td>\n",
              "      <td>FT</td>\n",
              "      <td>0</td>\n",
              "      <td>L</td>\n",
              "      <td>100</td>\n",
              "      <td>Other</td>\n",
              "    </tr>\n",
              "    <tr>\n",
              "      <th>1</th>\n",
              "      <td>2023</td>\n",
              "      <td>MI</td>\n",
              "      <td>1</td>\n",
              "      <td>CT</td>\n",
              "      <td>1</td>\n",
              "      <td>S</td>\n",
              "      <td>100</td>\n",
              "      <td>Other</td>\n",
              "    </tr>\n",
              "    <tr>\n",
              "      <th>2</th>\n",
              "      <td>2023</td>\n",
              "      <td>MI</td>\n",
              "      <td>1</td>\n",
              "      <td>CT</td>\n",
              "      <td>1</td>\n",
              "      <td>S</td>\n",
              "      <td>100</td>\n",
              "      <td>Other</td>\n",
              "    </tr>\n",
              "    <tr>\n",
              "      <th>3</th>\n",
              "      <td>2023</td>\n",
              "      <td>SE</td>\n",
              "      <td>0</td>\n",
              "      <td>FT</td>\n",
              "      <td>0</td>\n",
              "      <td>M</td>\n",
              "      <td>100</td>\n",
              "      <td>Data Scientist</td>\n",
              "    </tr>\n",
              "    <tr>\n",
              "      <th>4</th>\n",
              "      <td>2023</td>\n",
              "      <td>SE</td>\n",
              "      <td>0</td>\n",
              "      <td>FT</td>\n",
              "      <td>0</td>\n",
              "      <td>M</td>\n",
              "      <td>100</td>\n",
              "      <td>Data Scientist</td>\n",
              "    </tr>\n",
              "  </tbody>\n",
              "</table>\n",
              "</div>\n",
              "      <button class=\"colab-df-convert\" onclick=\"convertToInteractive('df-26ee1ada-0732-44c8-9d56-1b4c8690c655')\"\n",
              "              title=\"Convert this dataframe to an interactive table.\"\n",
              "              style=\"display:none;\">\n",
              "        \n",
              "  <svg xmlns=\"http://www.w3.org/2000/svg\" height=\"24px\"viewBox=\"0 0 24 24\"\n",
              "       width=\"24px\">\n",
              "    <path d=\"M0 0h24v24H0V0z\" fill=\"none\"/>\n",
              "    <path d=\"M18.56 5.44l.94 2.06.94-2.06 2.06-.94-2.06-.94-.94-2.06-.94 2.06-2.06.94zm-11 1L8.5 8.5l.94-2.06 2.06-.94-2.06-.94L8.5 2.5l-.94 2.06-2.06.94zm10 10l.94 2.06.94-2.06 2.06-.94-2.06-.94-.94-2.06-.94 2.06-2.06.94z\"/><path d=\"M17.41 7.96l-1.37-1.37c-.4-.4-.92-.59-1.43-.59-.52 0-1.04.2-1.43.59L10.3 9.45l-7.72 7.72c-.78.78-.78 2.05 0 2.83L4 21.41c.39.39.9.59 1.41.59.51 0 1.02-.2 1.41-.59l7.78-7.78 2.81-2.81c.8-.78.8-2.07 0-2.86zM5.41 20L4 18.59l7.72-7.72 1.47 1.35L5.41 20z\"/>\n",
              "  </svg>\n",
              "      </button>\n",
              "      \n",
              "  <style>\n",
              "    .colab-df-container {\n",
              "      display:flex;\n",
              "      flex-wrap:wrap;\n",
              "      gap: 12px;\n",
              "    }\n",
              "\n",
              "    .colab-df-convert {\n",
              "      background-color: #E8F0FE;\n",
              "      border: none;\n",
              "      border-radius: 50%;\n",
              "      cursor: pointer;\n",
              "      display: none;\n",
              "      fill: #1967D2;\n",
              "      height: 32px;\n",
              "      padding: 0 0 0 0;\n",
              "      width: 32px;\n",
              "    }\n",
              "\n",
              "    .colab-df-convert:hover {\n",
              "      background-color: #E2EBFA;\n",
              "      box-shadow: 0px 1px 2px rgba(60, 64, 67, 0.3), 0px 1px 3px 1px rgba(60, 64, 67, 0.15);\n",
              "      fill: #174EA6;\n",
              "    }\n",
              "\n",
              "    [theme=dark] .colab-df-convert {\n",
              "      background-color: #3B4455;\n",
              "      fill: #D2E3FC;\n",
              "    }\n",
              "\n",
              "    [theme=dark] .colab-df-convert:hover {\n",
              "      background-color: #434B5C;\n",
              "      box-shadow: 0px 1px 3px 1px rgba(0, 0, 0, 0.15);\n",
              "      filter: drop-shadow(0px 1px 2px rgba(0, 0, 0, 0.3));\n",
              "      fill: #FFFFFF;\n",
              "    }\n",
              "  </style>\n",
              "\n",
              "      <script>\n",
              "        const buttonEl =\n",
              "          document.querySelector('#df-26ee1ada-0732-44c8-9d56-1b4c8690c655 button.colab-df-convert');\n",
              "        buttonEl.style.display =\n",
              "          google.colab.kernel.accessAllowed ? 'block' : 'none';\n",
              "\n",
              "        async function convertToInteractive(key) {\n",
              "          const element = document.querySelector('#df-26ee1ada-0732-44c8-9d56-1b4c8690c655');\n",
              "          const dataTable =\n",
              "            await google.colab.kernel.invokeFunction('convertToInteractive',\n",
              "                                                     [key], {});\n",
              "          if (!dataTable) return;\n",
              "\n",
              "          const docLinkHtml = 'Like what you see? Visit the ' +\n",
              "            '<a target=\"_blank\" href=https://colab.research.google.com/notebooks/data_table.ipynb>data table notebook</a>'\n",
              "            + ' to learn more about interactive tables.';\n",
              "          element.innerHTML = '';\n",
              "          dataTable['output_type'] = 'display_data';\n",
              "          await google.colab.output.renderOutput(dataTable, element);\n",
              "          const docLink = document.createElement('div');\n",
              "          docLink.innerHTML = docLinkHtml;\n",
              "          element.appendChild(docLink);\n",
              "        }\n",
              "      </script>\n",
              "    </div>\n",
              "  </div>\n",
              "  "
            ]
          },
          "metadata": {},
          "execution_count": 30
        }
      ]
    },
    {
      "cell_type": "markdown",
      "source": [
        "This code segment above is preparing the necessary data (input features) that will be fed into a machine learning model to make predictions. The chosen features presumably hold important and meaningful information that can aid in predicting the outcome of the target variable."
      ],
      "metadata": {
        "id": "2SOy6JIy-YyZ"
      }
    },
    {
      "cell_type": "code",
      "source": [
        "# create second varaiable Y\n",
        "Y = Data_Science_Salary_copy.salary_in_usd"
      ],
      "metadata": {
        "id": "eGl1ZxtDMUkX"
      },
      "execution_count": 31,
      "outputs": []
    },
    {
      "cell_type": "markdown",
      "source": [
        " This code above designates salary_in_usd as the target variable in the forthcoming machine learning process, establishing what the predictive model will aim to estimate based on the input features."
      ],
      "metadata": {
        "id": "8ahjC6qV--rs"
      }
    },
    {
      "cell_type": "code",
      "source": [
        "# split the data into train and validation\n",
        "X_train, X_valid, Y_train, Y_valid = train_test_split(X,Y, train_size=0.8, random_state=0)"
      ],
      "metadata": {
        "id": "O1lKuNZbMxfE"
      },
      "execution_count": 32,
      "outputs": []
    },
    {
      "cell_type": "markdown",
      "source": [
        "This division of data is critical in machine learning to prevent overfitting, where a model learns the training data too well and performs poorly on unseen data. The validation set serves as \"unseen\" data that is used to evaluate the model's performance and generalizability.\n",
        "The code above is dividing the dataset into training and validation sets to both train the machine learning model and evaluate its performance."
      ],
      "metadata": {
        "id": "f39sn6Gh_wg0"
      }
    },
    {
      "cell_type": "code",
      "source": [
        " #select categorical columns\n",
        "categorical_cols = Data_Science_Salary_copy.select_dtypes(include=[\"object\", \"category\"]).columns\n",
        "categorical_cols = categorical_cols.drop([\"salary_currency\", \"job_title\", \"ISO-3_emp\", \"ISO-3_comp\"])\n",
        "categorical_cols\n"
      ],
      "metadata": {
        "colab": {
          "base_uri": "https://localhost:8080/",
          "height": 0
        },
        "id": "t2zYRTMBNHi_",
        "outputId": "57b67934-e063-4484-d539-4ee8bd1e5132"
      },
      "execution_count": 33,
      "outputs": [
        {
          "output_type": "execute_result",
          "data": {
            "text/plain": [
              "Index(['experience_level', 'employment_type', 'company_size', 'new_job_title'], dtype='object')"
            ]
          },
          "metadata": {},
          "execution_count": 33
        }
      ]
    },
    {
      "cell_type": "markdown",
      "source": [
        "The code filters the categorical columns in the dataset and excludes specific ones that are not needed for the subsequent analysis or modeling process. The and the result shows the final selected categorical columns in the DataFrame which will be used for tasks such as feature encoding, which transforms categorical data into a format suitable for machine learning algorithms.\n",
        "\n",
        "\n",
        "\n",
        "\n"
      ],
      "metadata": {
        "id": "wEXrGHUIAVer"
      }
    },
    {
      "cell_type": "code",
      "source": [
        "\n",
        "# select numerical cols\n",
        "numerical_cols = Data_Science_Salary_copy.select_dtypes(include=[\"float\", \"int\"]).columns\n",
        "numerical_cols = numerical_cols.drop([\"salary\", \"salary_in_usd\"])\n",
        "numerical_cols"
      ],
      "metadata": {
        "colab": {
          "base_uri": "https://localhost:8080/",
          "height": 0
        },
        "id": "dumI4dVINlas",
        "outputId": "d68f401c-1564-41e3-f941-b0d0723b16e4"
      },
      "execution_count": 34,
      "outputs": [
        {
          "output_type": "execute_result",
          "data": {
            "text/plain": [
              "Index(['work_year', 'New_employee_residence_US', 'remote_ratio',\n",
              "       'New_company_location_US'],\n",
              "      dtype='object')"
            ]
          },
          "metadata": {},
          "execution_count": 34
        }
      ]
    },
    {
      "cell_type": "markdown",
      "source": [
        "The code filters the numerical columns in the dataset and excludes specific ones that are not needed for the subsequent analysis or modeling process. The and the result shows the final selected numerical columns in the DataFrame which will be used for tasks such as feature encoding, which transforms categorical data into a format suitable for machine learning algorithms."
      ],
      "metadata": {
        "id": "WAJKQqJEA8g4"
      }
    },
    {
      "cell_type": "code",
      "source": [
        "# preprocessing steps for numerical data\n",
        "numerical_transformer = SimpleImputer(strategy=\"median\")\n",
        "\n",
        "# prepoccesing steps for categorical data\n",
        "categorical_transformer = Pipeline(steps=[\n",
        "    (\"imputer\", SimpleImputer(strategy=\"most_frequent\")),\n",
        "    (\"hotencoder\", OneHotEncoder(handle_unknown=\"ignore\"))\n",
        "])\n",
        "\n",
        "# combine both\n",
        "preprocessor = ColumnTransformer(transformers=[\n",
        "    (\"num\", numerical_transformer, numerical_cols),\n",
        "    (\"cat\", categorical_transformer, categorical_cols)\n",
        "])"
      ],
      "metadata": {
        "id": "8Fv6HNGbOyRf"
      },
      "execution_count": 35,
      "outputs": []
    },
    {
      "cell_type": "markdown",
      "source": [
        "This code above help sets up a series of transformations for both numerical and categorical data, which will be used in the subsequent steps of fitting a machine learning model. It ensures that missing values are addressed and that categorical variables are appropriately encoded before being used in a model."
      ],
      "metadata": {
        "id": "vRkxTvytBiro"
      }
    },
    {
      "cell_type": "markdown",
      "source": [
        "**Linear** **Regression**"
      ],
      "metadata": {
        "id": "NRDSlGQnUUsX"
      }
    },
    {
      "cell_type": "code",
      "source": [
        "from sklearn.linear_model import LinearRegression\n",
        "\n",
        "# define model\n",
        "lr = LinearRegression()"
      ],
      "metadata": {
        "id": "zBoT82LLPIWF"
      },
      "execution_count": 52,
      "outputs": []
    },
    {
      "cell_type": "code",
      "source": [
        "# build the pipeline\n",
        "lr_pipeline = Pipeline(steps=[\n",
        "    (\"preprocessor\", preprocessor),\n",
        "    (\"lr\", lr)\n",
        "])\n",
        "\n",
        "# fit the model\n",
        "lr_pipeline.fit(X_train, Y_train)\n",
        "\n",
        "# get prediction\n",
        "lr_Y_pred = lr_pipeline.predict(X_valid)\n",
        "\n",
        "# mean absolute error\n",
        "lr_mae = mean_absolute_error(Y_valid, lr_Y_pred)\n",
        "\n",
        "# r2 score\n",
        "lr_r2 = r2_score(Y_valid, lr_Y_pred)\n",
        "\n",
        "print(\"MEA Linear Regression: \", lr_mae)\n",
        "print(\"r2 Linear Regression: \", lr_r2)"
      ],
      "metadata": {
        "colab": {
          "base_uri": "https://localhost:8080/",
          "height": 0
        },
        "id": "zQyTbbAPPR-y",
        "outputId": "b750c987-ecfd-4e95-d452-04a986af0ada"
      },
      "execution_count": 53,
      "outputs": [
        {
          "output_type": "stream",
          "name": "stdout",
          "text": [
            "MEA Linear Regression:  38230.55040758995\n",
            "r2 Linear Regression:  0.4245870924735077\n"
          ]
        }
      ]
    },
    {
      "cell_type": "markdown",
      "source": [
        "The performance of the model is evaluated using two metrics: mean absolute error (MAE) and the r-squared score (r2). MAE is the average absolute difference between the predicted and actual values, while the r2 score measures the proportion of variance in the target variable that is predictable from the features and the otput shows that the MAE is 38230.55,this means that on average, the model's predictions are approximately $38,230.55 away from the actual salary values and r2 score which s also the Validation Score is 0.4245870924735077 which means that approximately 42.46% of the variance in the target variable (salary) can be predicted from the input features."
      ],
      "metadata": {
        "id": "BS9A1vm2DOzQ"
      }
    },
    {
      "cell_type": "code",
      "source": [
        "from sklearn.model_selection import GridSearchCV"
      ],
      "metadata": {
        "id": "6eFMF2VPQ4r5"
      },
      "execution_count": 54,
      "outputs": []
    },
    {
      "cell_type": "code",
      "source": [
        "lr_param_grid = {\n",
        "       \"lr__fit_intercept\": [True, False]\n",
        "}\n",
        "\n",
        "#create Gridsearch object\n",
        "lr_grid_search = GridSearchCV(lr_pipeline, lr_param_grid, cv=5)\n",
        "\n",
        "# Fit the new GridSearchCV object on the training data\n",
        "lr_grid_search.fit(X_train, Y_train)\n",
        "\n",
        "# Print the best parameters and the validation set score\n",
        "print(\"Best parameters: \", lr_grid_search.best_params_)\n",
        "print(\"Crossvalidation score: \", lr_grid_search.best_score_)"
      ],
      "metadata": {
        "colab": {
          "base_uri": "https://localhost:8080/",
          "height": 0
        },
        "id": "_cJGwn3vQY3L",
        "outputId": "bc8a92dc-7088-45bb-917e-7c929cc1f14e"
      },
      "execution_count": 55,
      "outputs": [
        {
          "output_type": "stream",
          "name": "stdout",
          "text": [
            "Best parameters:  {'lr__fit_intercept': True}\n",
            "Crossvalidation score:  0.38703425304882694\n"
          ]
        }
      ]
    },
    {
      "cell_type": "markdown",
      "source": [
        "We perform a grid search to optimize the hyperparameters of a linear regression model, and the otput indicates that the best performance of the linear regression model is achieved when the fit_intercept parameter is set to True, which means the y-intercept was calculated for the line of best fit. While the cross-validation score suggests that the model is only able to explain about 38.7% of the variance in the salary, which might mean there is still room for improving the model.\n",
        "\n",
        "\n",
        "\n",
        "\n",
        "\n",
        "\n"
      ],
      "metadata": {
        "id": "gQEBwztmEmlS"
      }
    },
    {
      "cell_type": "code",
      "source": [
        "# get the score for the validaton data\n",
        "lr_valid_score = lr_grid_search.score(X_valid,Y_valid)\n",
        "\n",
        "# print score\n",
        "print(\"Validation Score: \", lr_valid_score)"
      ],
      "metadata": {
        "colab": {
          "base_uri": "https://localhost:8080/",
          "height": 0
        },
        "id": "pLZsm08DXmra",
        "outputId": "4fbb7d1f-9a37-4926-8c4d-cfb0d78f20b2"
      },
      "execution_count": 62,
      "outputs": [
        {
          "output_type": "stream",
          "name": "stdout",
          "text": [
            "Validation Score:  0.4245870924735077\n"
          ]
        }
      ]
    },
    {
      "cell_type": "markdown",
      "source": [
        "# **Random** **Forest** **Regression**"
      ],
      "metadata": {
        "id": "-QVQIzhcUY3u"
      }
    },
    {
      "cell_type": "code",
      "source": [
        "# define Model\n",
        "model = RandomForestRegressor(random_state=0)"
      ],
      "metadata": {
        "id": "dQTJ6xZIU1yr"
      },
      "execution_count": 56,
      "outputs": []
    },
    {
      "cell_type": "code",
      "source": [
        "# build the pipeline\n",
        "rf_pipeline = Pipeline(steps=[\n",
        "    (\"preprocessor\", preprocessor),\n",
        "    (\"rf\", model)\n",
        "])\n",
        "\n",
        "# fit the model\n",
        "rf_pipeline.fit(X_train, Y_train)\n",
        "\n",
        "# get prediction\n",
        "rf_Y_pred = rf_pipeline.predict(X_valid)\n",
        "\n",
        "# mean absolute error\n",
        "rf_mae = mean_absolute_error(Y_valid, rf_Y_pred)\n",
        "\n",
        "# r2 score\n",
        "rf_r2 = r2_score(Y_valid, rf_Y_pred)\n",
        "\n",
        "print(\"MEA RandomForestRegressor: \", rf_mae)\n",
        "print(\"r2 RandomForestregressor: \", rf_r2)"
      ],
      "metadata": {
        "colab": {
          "base_uri": "https://localhost:8080/",
          "height": 0
        },
        "id": "gnaoP-L2U5uX",
        "outputId": "a5188ba8-8f9c-4f45-d61a-81a7499a6e2f"
      },
      "execution_count": 57,
      "outputs": [
        {
          "output_type": "stream",
          "name": "stdout",
          "text": [
            "MEA RandomForestRegressor:  39462.081764647024\n",
            "r2 RandomForestregressor:  0.3868188704964839\n"
          ]
        }
      ]
    },
    {
      "cell_type": "markdown",
      "source": [
        "MEA RandomForestRegressor: 39462.081764647024: The mean absolute error for the RandomForestRegressor model is approximately 39462.08. This means, on average, the model's predictions are about $39462.08 away from the actual values.\n",
        "\n",
        "r2 RandomForestRegressor: 0.3868188704964839: The r-squared score for the RandomForestRegressor model is approximately 0.39. This indicates that the RandomForestRegressor model can explain about 38.68% of the variance in the salary data."
      ],
      "metadata": {
        "id": "xVQTcJPOpota"
      }
    },
    {
      "cell_type": "code",
      "source": [
        "# Hyperparameter tuning\n",
        "from sklearn.model_selection import GridSearchCV\n",
        "\n",
        "# define parameters\n",
        "rf_param_grid = {\n",
        "    \"rf__n_estimators\" : [50,100,200],\n",
        "    \"rf__max_depth\" : [None, 5, 10],\n",
        "    \"rf__min_samples_split\" : [2,5],\n",
        "    \"rf__min_samples_leaf\" : [1,2]\n",
        "}\n",
        "\n",
        "# create Gridsearch object\n",
        "rf_grid_search = GridSearchCV(rf_pipeline, rf_param_grid, cv=5)\n",
        "\n",
        "# fit the Gridsearch object\n",
        "rf_grid_search.fit(X_train, Y_train)\n",
        "\n",
        "\n",
        "print(\"Best parameters: \", rf_grid_search.best_params_)\n",
        "print(\"Cross validation score\", rf_grid_search.best_score_)"
      ],
      "metadata": {
        "colab": {
          "base_uri": "https://localhost:8080/",
          "height": 0
        },
        "id": "2RvTkH4WX2hF",
        "outputId": "9ebf1faa-5315-4428-e77a-b80641794f4c"
      },
      "execution_count": 58,
      "outputs": [
        {
          "output_type": "stream",
          "name": "stdout",
          "text": [
            "Best parameters:  {'rf__max_depth': 5, 'rf__min_samples_leaf': 1, 'rf__min_samples_split': 2, 'rf__n_estimators': 100}\n",
            "Cross validation score 0.3894017701816715\n"
          ]
        }
      ]
    },
    {
      "cell_type": "markdown",
      "source": [
        "This indicates the combination of parameters that resulted in the highest cross-validation score. This suggests that the RandomForestRegressor is at its best model when max_depth of 5, min_samples_leaf of 1, min_samples_split of 2, and n_estimators of 100, While optimized model is expected to perform better than the one without parameter tuning, and was able to explain about 38.94% of the variance in the salary data during the cross-validation process"
      ],
      "metadata": {
        "id": "D8cGbRYFtUN7"
      }
    },
    {
      "cell_type": "code",
      "source": [
        "# get the score for the validation data\n",
        "rf_valid_score = rf_grid_search.score(X_valid, Y_valid)\n",
        "\n",
        "# print score\n",
        "print(\"Validation Set Score: \", rf_valid_score)"
      ],
      "metadata": {
        "colab": {
          "base_uri": "https://localhost:8080/",
          "height": 0
        },
        "id": "4EIk_VQeYIe0",
        "outputId": "dbd29870-1e04-4dc7-accc-0261daf1d43b"
      },
      "execution_count": 59,
      "outputs": [
        {
          "output_type": "stream",
          "name": "stdout",
          "text": [
            "Validation Set Score:  0.4241343441444847\n"
          ]
        }
      ]
    },
    {
      "cell_type": "markdown",
      "source": [
        "The output Validation Set Score: 0.4241343441444847 shows the R2 score of the model on the validation data set. This means that approximately 42.41% of the variance in the target variable (salary) in the validation data can be explained by the model. This performance metric gives us a measure of the model's predictive accuracy on new, unseen data."
      ],
      "metadata": {
        "id": "8Ea1OscPuzkL"
      }
    },
    {
      "cell_type": "markdown",
      "source": [
        "Decision Tree Regression"
      ],
      "metadata": {
        "id": "8GutVvMxWLlV"
      }
    },
    {
      "cell_type": "code",
      "source": [
        "from sklearn.tree import DecisionTreeRegressor\n",
        "\n",
        "# define model\n",
        "dr = DecisionTreeRegressor(random_state=0)"
      ],
      "metadata": {
        "id": "N6yiNeFocsZ8"
      },
      "execution_count": 44,
      "outputs": []
    },
    {
      "cell_type": "code",
      "source": [
        "dr_pipeline = Pipeline(steps=[\n",
        "    (\"preprocessor\", preprocessor),\n",
        "    (\"dr\", dr)\n",
        "])\n",
        "\n",
        "# fit the model\n",
        "dr_pipeline.fit(X_train, Y_train)\n",
        "\n",
        "# get prediction\n",
        "dr_Y_pred = dr_pipeline.predict(X_valid)\n",
        "\n",
        "# mean absolute error\n",
        "dr_mae = mean_absolute_error(Y_valid, dr_Y_pred)\n",
        "\n",
        "# r2 score\n",
        "dr_r2 = r2_score(Y_valid, dr_Y_pred)\n",
        "\n",
        "print(\"MEA DecicionTreeRegressor: \", dr_mae)\n",
        "print(\"r2 DecisionTreeRegressor: \", dr_r2)"
      ],
      "metadata": {
        "colab": {
          "base_uri": "https://localhost:8080/",
          "height": 0
        },
        "id": "CFm7enO9cy6q",
        "outputId": "aa93f58d-9802-4138-ec69-f822485863b2"
      },
      "execution_count": 45,
      "outputs": [
        {
          "output_type": "stream",
          "name": "stdout",
          "text": [
            "MEA DecicionTreeRegressor:  40788.310828281545\n",
            "r2 DecisionTreeRegressor:  0.343321805143883\n"
          ]
        }
      ]
    },
    {
      "cell_type": "markdown",
      "source": [
        "The Decision Tree Regressor model was able to explain about 34.33% of the variance in the salary data on the validation set. However, the average prediction error (as measured by the MAE) is quite high."
      ],
      "metadata": {
        "id": "fGgMaNMoS2du"
      }
    },
    {
      "cell_type": "code",
      "source": [
        "# make params\n",
        "dr_param_grid={\n",
        "    \"dr__splitter\":[\"best\",\"random\"],\n",
        "    \"dr__max_depth\" : [1,3,5],\n",
        "    \"dr__min_samples_leaf\":[1,2,3,4,5],\n",
        "    \"dr__min_weight_fraction_leaf\":[0.1,0.2,0.3,0.4,0.5],\n",
        "    \"dr__max_features\":[\"auto\",\"log2\",\"sqrt\",None],\n",
        "    \"dr__max_leaf_nodes\":[None,10,20,30,40,50]\n",
        "}\n",
        "\n",
        "# make gridsearch object\n",
        "dr_grid_search = GridSearchCV(dr_pipeline, dr_param_grid, cv=5)\n",
        "\n",
        "# fit the data\n",
        "dr_grid_search.fit(X_train, Y_train)\n",
        "\n",
        "# print best parameters and the crossvalidation score\n",
        "print(\"Best parameters: \", dr_grid_search.best_params_)\n",
        "print(\"Crossvalidation score: \", dr_grid_search.best_score_)"
      ],
      "metadata": {
        "colab": {
          "base_uri": "https://localhost:8080/",
          "height": 0
        },
        "id": "YFJrdxXHdJWG",
        "outputId": "dcb7f83b-c119-4257-ef8b-f1af89c89172"
      },
      "execution_count": 50,
      "outputs": [
        {
          "output_type": "stream",
          "name": "stdout",
          "text": [
            "Best parameters:  {'dr__max_depth': 3, 'dr__max_features': 'auto', 'dr__max_leaf_nodes': None, 'dr__min_samples_leaf': 1, 'dr__min_weight_fraction_leaf': 0.1, 'dr__splitter': 'best'}\n",
            "Crossvalidation score:  0.31596903657901254\n"
          ]
        }
      ]
    },
    {
      "cell_type": "markdown",
      "source": [
        "GridSearchCV object is fitted to the training data, it help find the set of parameters that gives the best score on the cross-validation which are dr__max_depth': 3,\n",
        "'dr__max_features': 'auto', dr__max_leaf_nodes': None ,'dr__min_samples_leaf': 1,'dr__min_weight_fraction_leaf': 0.1\n",
        "'dr__splitter': 'best' and the cross-validation score with these parameters was approximately 0.316. This indicates that about 31.6% of the variance in the salary can be explained by the features in the model using the best parameters, according to the cross-validation on the training set."
      ],
      "metadata": {
        "id": "l-Vi5hZ0y583"
      }
    },
    {
      "cell_type": "code",
      "source": [
        "# make predicitons with validation data\n",
        "dr_valid_score = dr_grid_search.score(X_valid, Y_valid)\n",
        "\n",
        "# print score\n",
        "print(\"Validaton Score\", dr_valid_score)"
      ],
      "metadata": {
        "colab": {
          "base_uri": "https://localhost:8080/",
          "height": 0
        },
        "id": "8C5b95qQdzGU",
        "outputId": "0c18817f-6636-4da3-c855-4c8968f792c8"
      },
      "execution_count": 51,
      "outputs": [
        {
          "output_type": "stream",
          "name": "stdout",
          "text": [
            "Validaton Score 0.3157374896502497\n"
          ]
        }
      ]
    },
    {
      "cell_type": "markdown",
      "source": [
        "This indicates that our model, with the best parameters found ('dr__max_depth': 3, 'dr__max_features': 'auto', 'dr__max_leaf_nodes': None, 'dr__min_samples_leaf': 1, 'dr__min_weight_fraction_leaf': 0.1, 'dr__splitter': 'best'), can explain about 31.6% of the variance in the salary data for the validation set."
      ],
      "metadata": {
        "id": "0Lb9og8t2mRW"
      }
    },
    {
      "cell_type": "markdown",
      "source": [
        "**REPORT**"
      ],
      "metadata": {
        "id": "tqUsm-vz4rqV"
      }
    },
    {
      "cell_type": "markdown",
      "source": [
        "Model Scores"
      ],
      "metadata": {
        "id": "0Yw3yt2PeWWs"
      }
    },
    {
      "cell_type": "code",
      "source": [
        "model_scores = {\n",
        "    \"RandomForestRegression\": {\"MAE\": rf_mae, \"r2_score\": rf_r2, \"r2_score_params\": rf_valid_score},\n",
        "    \"DecisionTreeRregressor\": {\"MAE\": dr_mae, \"r2_score\": dr_r2, \"r2_score_params\": dr_valid_score},\n",
        "       \"Linear Regression\": {\"MAE\": lr_mae, \"r2_score\": lr_r2, \"r2_score_params\": lr_valid_score}\n",
        "}\n",
        "\n",
        "\n",
        "model_scores = pd.DataFrame.from_dict(model_scores, orient=\"index\")\n",
        "model_scores.T"
      ],
      "metadata": {
        "colab": {
          "base_uri": "https://localhost:8080/",
          "height": 143
        },
        "id": "JILtwfZDeRbm",
        "outputId": "a9952f77-d2de-430b-9410-2e93bda0bcfc"
      },
      "execution_count": 63,
      "outputs": [
        {
          "output_type": "execute_result",
          "data": {
            "text/plain": [
              "                 RandomForestRegression  DecisionTreeRregressor  \\\n",
              "MAE                        39462.081765            40788.310828   \n",
              "r2_score                       0.386819                0.343322   \n",
              "r2_score_params                0.424134                0.315737   \n",
              "\n",
              "                 Linear Regression  \n",
              "MAE                   38230.550408  \n",
              "r2_score                  0.424587  \n",
              "r2_score_params           0.424587  "
            ],
            "text/html": [
              "\n",
              "  <div id=\"df-625be9f8-c96e-499f-897c-b21d229fc6d5\">\n",
              "    <div class=\"colab-df-container\">\n",
              "      <div>\n",
              "<style scoped>\n",
              "    .dataframe tbody tr th:only-of-type {\n",
              "        vertical-align: middle;\n",
              "    }\n",
              "\n",
              "    .dataframe tbody tr th {\n",
              "        vertical-align: top;\n",
              "    }\n",
              "\n",
              "    .dataframe thead th {\n",
              "        text-align: right;\n",
              "    }\n",
              "</style>\n",
              "<table border=\"1\" class=\"dataframe\">\n",
              "  <thead>\n",
              "    <tr style=\"text-align: right;\">\n",
              "      <th></th>\n",
              "      <th>RandomForestRegression</th>\n",
              "      <th>DecisionTreeRregressor</th>\n",
              "      <th>Linear Regression</th>\n",
              "    </tr>\n",
              "  </thead>\n",
              "  <tbody>\n",
              "    <tr>\n",
              "      <th>MAE</th>\n",
              "      <td>39462.081765</td>\n",
              "      <td>40788.310828</td>\n",
              "      <td>38230.550408</td>\n",
              "    </tr>\n",
              "    <tr>\n",
              "      <th>r2_score</th>\n",
              "      <td>0.386819</td>\n",
              "      <td>0.343322</td>\n",
              "      <td>0.424587</td>\n",
              "    </tr>\n",
              "    <tr>\n",
              "      <th>r2_score_params</th>\n",
              "      <td>0.424134</td>\n",
              "      <td>0.315737</td>\n",
              "      <td>0.424587</td>\n",
              "    </tr>\n",
              "  </tbody>\n",
              "</table>\n",
              "</div>\n",
              "      <button class=\"colab-df-convert\" onclick=\"convertToInteractive('df-625be9f8-c96e-499f-897c-b21d229fc6d5')\"\n",
              "              title=\"Convert this dataframe to an interactive table.\"\n",
              "              style=\"display:none;\">\n",
              "        \n",
              "  <svg xmlns=\"http://www.w3.org/2000/svg\" height=\"24px\"viewBox=\"0 0 24 24\"\n",
              "       width=\"24px\">\n",
              "    <path d=\"M0 0h24v24H0V0z\" fill=\"none\"/>\n",
              "    <path d=\"M18.56 5.44l.94 2.06.94-2.06 2.06-.94-2.06-.94-.94-2.06-.94 2.06-2.06.94zm-11 1L8.5 8.5l.94-2.06 2.06-.94-2.06-.94L8.5 2.5l-.94 2.06-2.06.94zm10 10l.94 2.06.94-2.06 2.06-.94-2.06-.94-.94-2.06-.94 2.06-2.06.94z\"/><path d=\"M17.41 7.96l-1.37-1.37c-.4-.4-.92-.59-1.43-.59-.52 0-1.04.2-1.43.59L10.3 9.45l-7.72 7.72c-.78.78-.78 2.05 0 2.83L4 21.41c.39.39.9.59 1.41.59.51 0 1.02-.2 1.41-.59l7.78-7.78 2.81-2.81c.8-.78.8-2.07 0-2.86zM5.41 20L4 18.59l7.72-7.72 1.47 1.35L5.41 20z\"/>\n",
              "  </svg>\n",
              "      </button>\n",
              "      \n",
              "  <style>\n",
              "    .colab-df-container {\n",
              "      display:flex;\n",
              "      flex-wrap:wrap;\n",
              "      gap: 12px;\n",
              "    }\n",
              "\n",
              "    .colab-df-convert {\n",
              "      background-color: #E8F0FE;\n",
              "      border: none;\n",
              "      border-radius: 50%;\n",
              "      cursor: pointer;\n",
              "      display: none;\n",
              "      fill: #1967D2;\n",
              "      height: 32px;\n",
              "      padding: 0 0 0 0;\n",
              "      width: 32px;\n",
              "    }\n",
              "\n",
              "    .colab-df-convert:hover {\n",
              "      background-color: #E2EBFA;\n",
              "      box-shadow: 0px 1px 2px rgba(60, 64, 67, 0.3), 0px 1px 3px 1px rgba(60, 64, 67, 0.15);\n",
              "      fill: #174EA6;\n",
              "    }\n",
              "\n",
              "    [theme=dark] .colab-df-convert {\n",
              "      background-color: #3B4455;\n",
              "      fill: #D2E3FC;\n",
              "    }\n",
              "\n",
              "    [theme=dark] .colab-df-convert:hover {\n",
              "      background-color: #434B5C;\n",
              "      box-shadow: 0px 1px 3px 1px rgba(0, 0, 0, 0.15);\n",
              "      filter: drop-shadow(0px 1px 2px rgba(0, 0, 0, 0.3));\n",
              "      fill: #FFFFFF;\n",
              "    }\n",
              "  </style>\n",
              "\n",
              "      <script>\n",
              "        const buttonEl =\n",
              "          document.querySelector('#df-625be9f8-c96e-499f-897c-b21d229fc6d5 button.colab-df-convert');\n",
              "        buttonEl.style.display =\n",
              "          google.colab.kernel.accessAllowed ? 'block' : 'none';\n",
              "\n",
              "        async function convertToInteractive(key) {\n",
              "          const element = document.querySelector('#df-625be9f8-c96e-499f-897c-b21d229fc6d5');\n",
              "          const dataTable =\n",
              "            await google.colab.kernel.invokeFunction('convertToInteractive',\n",
              "                                                     [key], {});\n",
              "          if (!dataTable) return;\n",
              "\n",
              "          const docLinkHtml = 'Like what you see? Visit the ' +\n",
              "            '<a target=\"_blank\" href=https://colab.research.google.com/notebooks/data_table.ipynb>data table notebook</a>'\n",
              "            + ' to learn more about interactive tables.';\n",
              "          element.innerHTML = '';\n",
              "          dataTable['output_type'] = 'display_data';\n",
              "          await google.colab.output.renderOutput(dataTable, element);\n",
              "          const docLink = document.createElement('div');\n",
              "          docLink.innerHTML = docLinkHtml;\n",
              "          element.appendChild(docLink);\n",
              "        }\n",
              "      </script>\n",
              "    </div>\n",
              "  </div>\n",
              "  "
            ]
          },
          "metadata": {},
          "execution_count": 63
        }
      ]
    },
    {
      "cell_type": "markdown",
      "source": [
        "I evaluated the performance of three different regression models, namely RandomForestRegressor, DecisionTreeRegressor, and Linear Regression, on our salary prediction task. The models were assessed based on Mean Absolute Error (MAE), which is a measure of prediction accuracy, and R^2 score, which quantifies the proportion of the variance in the dependent variable that is predictable from the independent variable(s). Both metrics were computed before and after hyperparameter tuning.\n",
        "\n",
        "According to these metrics, the Linear Regression model performed best, with the lowest MAE (38230.55) and highest R^2 score (0.424587), both before and after tuning. The RandomForestRegressor was the second best model, with a slightly higher MAE (39462.08) and a lower R^2 score (0.424134) after tuning. The DecisionTreeRegressor had the worst performance with the highest MAE (40788.31) and the lowest R^2 score (0.315737) after tuning.\n",
        "\n",
        "This analysis provides a valuable comparison of the models and indicates that for this specific task and dataset, Linear Regression is the most suitable model.\n"
      ],
      "metadata": {
        "id": "N9Ff1kPM4u52"
      }
    },
    {
      "cell_type": "markdown",
      "source": [
        "**CONCLUSION**"
      ],
      "metadata": {
        "id": "SwM_Gyol-fkr"
      }
    },
    {
      "cell_type": "markdown",
      "source": [
        "In summary, the exploration and analysis of the data science salary dataset revealed that the job roles and company locations vary significantly within the field, with a clear concentration in the United States. To provide accurate salary predictions, three regression models were implemented and evaluated - Linear Regression, RandomForestRegressor, and DecisionTreeRegressor.\n",
        "\n",
        "Model performance was quantified using Mean Absolute Error (MAE) and R^2 score, which assess accuracy and goodness of fit, respectively. The Linear Regression model outperformed the others on both metrics, indicating that it provides the most accurate and best-fit predictions for salaries in this context. This superiority held even after the process of hyperparameter tuning, solidifying the Linear Regression model's status as the most suitable model for this task."
      ],
      "metadata": {
        "id": "szsBt-eWAdgQ"
      }
    }
  ]
}